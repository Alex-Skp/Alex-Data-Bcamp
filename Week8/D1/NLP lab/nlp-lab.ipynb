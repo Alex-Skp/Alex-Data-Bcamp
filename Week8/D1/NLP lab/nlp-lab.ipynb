{
 "cells": [
  {
   "cell_type": "markdown",
   "id": "eligible-today",
   "metadata": {},
   "source": [
    "# Natural Language Processing Lab\n",
    "The purpose of todays lab is to calculate and validate the customer sentiment (polarity) based on reviews of purchased womens clothing, as an introduction to using NLP techniques on text data and retrieving actionable data insights per department / division at the womens clothing company.\n",
    "\n",
    "## Retrieve the data"
   ]
  },
  {
   "cell_type": "code",
   "execution_count": 1,
   "id": "lucky-championship",
   "metadata": {},
   "outputs": [],
   "source": [
    "import pandas as pd\n",
    "import matplotlib.pyplot as plt\n",
    "import seaborn as sns\n",
    "from textblob import TextBlob"
   ]
  },
  {
   "cell_type": "markdown",
   "id": "sophisticated-prediction",
   "metadata": {},
   "source": [
    "Load the data and check the header. Normalize the column names"
   ]
  },
  {
   "cell_type": "code",
   "execution_count": 2,
   "id": "satellite-calculator",
   "metadata": {},
   "outputs": [
    {
     "data": {
      "text/html": [
       "<div>\n",
       "<style scoped>\n",
       "    .dataframe tbody tr th:only-of-type {\n",
       "        vertical-align: middle;\n",
       "    }\n",
       "\n",
       "    .dataframe tbody tr th {\n",
       "        vertical-align: top;\n",
       "    }\n",
       "\n",
       "    .dataframe thead th {\n",
       "        text-align: right;\n",
       "    }\n",
       "</style>\n",
       "<table border=\"1\" class=\"dataframe\">\n",
       "  <thead>\n",
       "    <tr style=\"text-align: right;\">\n",
       "      <th></th>\n",
       "      <th>clothing_id</th>\n",
       "      <th>age</th>\n",
       "      <th>title</th>\n",
       "      <th>review_text</th>\n",
       "      <th>rating</th>\n",
       "      <th>recommended_ind</th>\n",
       "      <th>positive_feedback_count</th>\n",
       "      <th>division_name</th>\n",
       "      <th>department_name</th>\n",
       "      <th>class_name</th>\n",
       "    </tr>\n",
       "  </thead>\n",
       "  <tbody>\n",
       "    <tr>\n",
       "      <th>0</th>\n",
       "      <td>767</td>\n",
       "      <td>33</td>\n",
       "      <td>NaN</td>\n",
       "      <td>Absolutely wonderful - silky and sexy and comf...</td>\n",
       "      <td>4</td>\n",
       "      <td>1</td>\n",
       "      <td>0</td>\n",
       "      <td>Initmates</td>\n",
       "      <td>Intimate</td>\n",
       "      <td>Intimates</td>\n",
       "    </tr>\n",
       "    <tr>\n",
       "      <th>1</th>\n",
       "      <td>1080</td>\n",
       "      <td>34</td>\n",
       "      <td>NaN</td>\n",
       "      <td>Love this dress!  it's sooo pretty.  i happene...</td>\n",
       "      <td>5</td>\n",
       "      <td>1</td>\n",
       "      <td>4</td>\n",
       "      <td>General</td>\n",
       "      <td>Dresses</td>\n",
       "      <td>Dresses</td>\n",
       "    </tr>\n",
       "    <tr>\n",
       "      <th>2</th>\n",
       "      <td>1077</td>\n",
       "      <td>60</td>\n",
       "      <td>Some major design flaws</td>\n",
       "      <td>I had such high hopes for this dress and reall...</td>\n",
       "      <td>3</td>\n",
       "      <td>0</td>\n",
       "      <td>0</td>\n",
       "      <td>General</td>\n",
       "      <td>Dresses</td>\n",
       "      <td>Dresses</td>\n",
       "    </tr>\n",
       "    <tr>\n",
       "      <th>3</th>\n",
       "      <td>1049</td>\n",
       "      <td>50</td>\n",
       "      <td>My favorite buy!</td>\n",
       "      <td>I love, love, love this jumpsuit. it's fun, fl...</td>\n",
       "      <td>5</td>\n",
       "      <td>1</td>\n",
       "      <td>0</td>\n",
       "      <td>General Petite</td>\n",
       "      <td>Bottoms</td>\n",
       "      <td>Pants</td>\n",
       "    </tr>\n",
       "    <tr>\n",
       "      <th>4</th>\n",
       "      <td>847</td>\n",
       "      <td>47</td>\n",
       "      <td>Flattering shirt</td>\n",
       "      <td>This shirt is very flattering to all due to th...</td>\n",
       "      <td>5</td>\n",
       "      <td>1</td>\n",
       "      <td>6</td>\n",
       "      <td>General</td>\n",
       "      <td>Tops</td>\n",
       "      <td>Blouses</td>\n",
       "    </tr>\n",
       "  </tbody>\n",
       "</table>\n",
       "</div>"
      ],
      "text/plain": [
       "   clothing_id  age                    title  \\\n",
       "0          767   33                      NaN   \n",
       "1         1080   34                      NaN   \n",
       "2         1077   60  Some major design flaws   \n",
       "3         1049   50         My favorite buy!   \n",
       "4          847   47         Flattering shirt   \n",
       "\n",
       "                                         review_text  rating  recommended_ind  \\\n",
       "0  Absolutely wonderful - silky and sexy and comf...       4                1   \n",
       "1  Love this dress!  it's sooo pretty.  i happene...       5                1   \n",
       "2  I had such high hopes for this dress and reall...       3                0   \n",
       "3  I love, love, love this jumpsuit. it's fun, fl...       5                1   \n",
       "4  This shirt is very flattering to all due to th...       5                1   \n",
       "\n",
       "   positive_feedback_count   division_name department_name class_name  \n",
       "0                        0       Initmates        Intimate  Intimates  \n",
       "1                        4         General         Dresses    Dresses  \n",
       "2                        0         General         Dresses    Dresses  \n",
       "3                        0  General Petite         Bottoms      Pants  \n",
       "4                        6         General            Tops    Blouses  "
      ]
     },
     "execution_count": 2,
     "metadata": {},
     "output_type": "execute_result"
    }
   ],
   "source": [
    "data = pd.read_csv(\"data/Womens Clothing E-Commerce Reviews.csv\", index_col=0)\n",
    "data.head()\n",
    "data.columns = data.columns.str.lower().str.strip().str.replace(\" \",\"_\")\n",
    "data.head(5)"
   ]
  },
  {
   "cell_type": "markdown",
   "id": "dietary-rachel",
   "metadata": {},
   "source": [
    "Choose the columns that will be used for the analysis"
   ]
  },
  {
   "cell_type": "code",
   "execution_count": 4,
   "id": "sunset-slave",
   "metadata": {},
   "outputs": [
    {
     "data": {
      "text/html": [
       "<div>\n",
       "<style scoped>\n",
       "    .dataframe tbody tr th:only-of-type {\n",
       "        vertical-align: middle;\n",
       "    }\n",
       "\n",
       "    .dataframe tbody tr th {\n",
       "        vertical-align: top;\n",
       "    }\n",
       "\n",
       "    .dataframe thead th {\n",
       "        text-align: right;\n",
       "    }\n",
       "</style>\n",
       "<table border=\"1\" class=\"dataframe\">\n",
       "  <thead>\n",
       "    <tr style=\"text-align: right;\">\n",
       "      <th></th>\n",
       "      <th>title</th>\n",
       "      <th>review_text</th>\n",
       "      <th>rating</th>\n",
       "      <th>division_name</th>\n",
       "      <th>department_name</th>\n",
       "    </tr>\n",
       "  </thead>\n",
       "  <tbody>\n",
       "    <tr>\n",
       "      <th>0</th>\n",
       "      <td>NaN</td>\n",
       "      <td>Absolutely wonderful - silky and sexy and comf...</td>\n",
       "      <td>4</td>\n",
       "      <td>Initmates</td>\n",
       "      <td>Intimate</td>\n",
       "    </tr>\n",
       "    <tr>\n",
       "      <th>1</th>\n",
       "      <td>NaN</td>\n",
       "      <td>Love this dress!  it's sooo pretty.  i happene...</td>\n",
       "      <td>5</td>\n",
       "      <td>General</td>\n",
       "      <td>Dresses</td>\n",
       "    </tr>\n",
       "    <tr>\n",
       "      <th>2</th>\n",
       "      <td>Some major design flaws</td>\n",
       "      <td>I had such high hopes for this dress and reall...</td>\n",
       "      <td>3</td>\n",
       "      <td>General</td>\n",
       "      <td>Dresses</td>\n",
       "    </tr>\n",
       "    <tr>\n",
       "      <th>3</th>\n",
       "      <td>My favorite buy!</td>\n",
       "      <td>I love, love, love this jumpsuit. it's fun, fl...</td>\n",
       "      <td>5</td>\n",
       "      <td>General Petite</td>\n",
       "      <td>Bottoms</td>\n",
       "    </tr>\n",
       "    <tr>\n",
       "      <th>4</th>\n",
       "      <td>Flattering shirt</td>\n",
       "      <td>This shirt is very flattering to all due to th...</td>\n",
       "      <td>5</td>\n",
       "      <td>General</td>\n",
       "      <td>Tops</td>\n",
       "    </tr>\n",
       "  </tbody>\n",
       "</table>\n",
       "</div>"
      ],
      "text/plain": [
       "                     title                                        review_text  \\\n",
       "0                      NaN  Absolutely wonderful - silky and sexy and comf...   \n",
       "1                      NaN  Love this dress!  it's sooo pretty.  i happene...   \n",
       "2  Some major design flaws  I had such high hopes for this dress and reall...   \n",
       "3         My favorite buy!  I love, love, love this jumpsuit. it's fun, fl...   \n",
       "4         Flattering shirt  This shirt is very flattering to all due to th...   \n",
       "\n",
       "   rating   division_name department_name  \n",
       "0       4       Initmates        Intimate  \n",
       "1       5         General         Dresses  \n",
       "2       3         General         Dresses  \n",
       "3       5  General Petite         Bottoms  \n",
       "4       5         General            Tops  "
      ]
     },
     "execution_count": 4,
     "metadata": {},
     "output_type": "execute_result"
    }
   ],
   "source": [
    "cust_rev = data[['title','review_text','rating','division_name','department_name']]\n",
    "cust_rev.head()"
   ]
  },
  {
   "cell_type": "markdown",
   "id": "civil-transformation",
   "metadata": {},
   "source": [
    "## EDA"
   ]
  },
  {
   "cell_type": "code",
   "execution_count": 8,
   "id": "indian-commercial",
   "metadata": {},
   "outputs": [
    {
     "name": "stdout",
     "output_type": "stream",
     "text": [
      "<class 'pandas.core.frame.DataFrame'>\n",
      "Int64Index: 23486 entries, 0 to 23485\n",
      "Data columns (total 5 columns):\n",
      " #   Column           Non-Null Count  Dtype \n",
      "---  ------           --------------  ----- \n",
      " 0   title            19676 non-null  object\n",
      " 1   review_text      22641 non-null  object\n",
      " 2   rating           23486 non-null  int64 \n",
      " 3   division_name    23472 non-null  object\n",
      " 4   department_name  23472 non-null  object\n",
      "dtypes: int64(1), object(4)\n",
      "memory usage: 1.1+ MB\n"
     ]
    }
   ],
   "source": [
    "cust_rev.info()"
   ]
  },
  {
   "cell_type": "markdown",
   "id": "african-audio",
   "metadata": {},
   "source": [
    "Check the numerical variable: Seems to be between 1 and 5. The mean is pretty high and stdev is low, so it is assumed that the ratings are generally good, as there are also no rating points missing in the dataset. "
   ]
  },
  {
   "cell_type": "code",
   "execution_count": 9,
   "id": "trained-necessity",
   "metadata": {},
   "outputs": [
    {
     "data": {
      "text/html": [
       "<div>\n",
       "<style scoped>\n",
       "    .dataframe tbody tr th:only-of-type {\n",
       "        vertical-align: middle;\n",
       "    }\n",
       "\n",
       "    .dataframe tbody tr th {\n",
       "        vertical-align: top;\n",
       "    }\n",
       "\n",
       "    .dataframe thead th {\n",
       "        text-align: right;\n",
       "    }\n",
       "</style>\n",
       "<table border=\"1\" class=\"dataframe\">\n",
       "  <thead>\n",
       "    <tr style=\"text-align: right;\">\n",
       "      <th></th>\n",
       "      <th>rating</th>\n",
       "    </tr>\n",
       "  </thead>\n",
       "  <tbody>\n",
       "    <tr>\n",
       "      <th>count</th>\n",
       "      <td>23486.000000</td>\n",
       "    </tr>\n",
       "    <tr>\n",
       "      <th>mean</th>\n",
       "      <td>4.196032</td>\n",
       "    </tr>\n",
       "    <tr>\n",
       "      <th>std</th>\n",
       "      <td>1.110031</td>\n",
       "    </tr>\n",
       "    <tr>\n",
       "      <th>min</th>\n",
       "      <td>1.000000</td>\n",
       "    </tr>\n",
       "    <tr>\n",
       "      <th>25%</th>\n",
       "      <td>4.000000</td>\n",
       "    </tr>\n",
       "    <tr>\n",
       "      <th>50%</th>\n",
       "      <td>5.000000</td>\n",
       "    </tr>\n",
       "    <tr>\n",
       "      <th>75%</th>\n",
       "      <td>5.000000</td>\n",
       "    </tr>\n",
       "    <tr>\n",
       "      <th>max</th>\n",
       "      <td>5.000000</td>\n",
       "    </tr>\n",
       "  </tbody>\n",
       "</table>\n",
       "</div>"
      ],
      "text/plain": [
       "             rating\n",
       "count  23486.000000\n",
       "mean       4.196032\n",
       "std        1.110031\n",
       "min        1.000000\n",
       "25%        4.000000\n",
       "50%        5.000000\n",
       "75%        5.000000\n",
       "max        5.000000"
      ]
     },
     "execution_count": 9,
     "metadata": {},
     "output_type": "execute_result"
    }
   ],
   "source": [
    "cust_rev.describe()"
   ]
  },
  {
   "cell_type": "markdown",
   "id": "emotional-identification",
   "metadata": {},
   "source": [
    "check which categories are in the dataset, also check for spelling"
   ]
  },
  {
   "cell_type": "code",
   "execution_count": 11,
   "id": "improving-container",
   "metadata": {},
   "outputs": [
    {
     "data": {
      "text/plain": [
       "General           13850\n",
       "General Petite     8120\n",
       "Initmates          1502\n",
       "Name: division_name, dtype: int64"
      ]
     },
     "execution_count": 11,
     "metadata": {},
     "output_type": "execute_result"
    }
   ],
   "source": [
    "cust_rev['division_name'].value_counts()"
   ]
  },
  {
   "cell_type": "code",
   "execution_count": 12,
   "id": "defensive-appearance",
   "metadata": {},
   "outputs": [
    {
     "data": {
      "text/plain": [
       "Tops        10468\n",
       "Dresses      6319\n",
       "Bottoms      3799\n",
       "Intimate     1735\n",
       "Jackets      1032\n",
       "Trend         119\n",
       "Name: department_name, dtype: int64"
      ]
     },
     "execution_count": 12,
     "metadata": {},
     "output_type": "execute_result"
    }
   ],
   "source": [
    "cust_rev['department_name'].value_counts()"
   ]
  },
  {
   "cell_type": "markdown",
   "id": "alien-whole",
   "metadata": {},
   "source": [
    "Check the mean rating by division and department, and plot it in a chart"
   ]
  },
  {
   "cell_type": "code",
   "execution_count": 41,
   "id": "warming-stationery",
   "metadata": {},
   "outputs": [
    {
     "data": {
      "text/plain": [
       "division_name   department_name\n",
       "General Petite  Trend              3.782609\n",
       "General         Trend              3.852632\n",
       "General Petite  Dresses            4.122328\n",
       "General         Tops               4.136778\n",
       "                Dresses            4.150318\n",
       "General Petite  Tops               4.197520\n",
       "General         Jackets            4.225962\n",
       "General Petite  Intimate           4.242291\n",
       "General         Bottoms            4.260727\n",
       "Initmates       Intimate           4.275596\n",
       "General Petite  Jackets            4.301587\n",
       "                Bottoms            4.315226\n",
       "Name: rating, dtype: float64"
      ]
     },
     "execution_count": 41,
     "metadata": {},
     "output_type": "execute_result"
    }
   ],
   "source": [
    "avg_rating = cust_rev.groupby(['division_name','department_name'])['rating'].mean().sort_values()\n",
    "avg_rating"
   ]
  },
  {
   "cell_type": "code",
   "execution_count": 42,
   "id": "brazilian-beaver",
   "metadata": {},
   "outputs": [
    {
     "data": {
      "text/plain": [
       "<AxesSubplot:ylabel='division_name,department_name'>"
      ]
     },
     "execution_count": 42,
     "metadata": {},
     "output_type": "execute_result"
    },
    {
     "data": {
      "image/png": "[encoded data removed]",
      "text/plain": [
       "<Figure size 432x288 with 1 Axes>"
      ]
     },
     "metadata": {
      "needs_background": "light"
     },
     "output_type": "display_data"
    }
   ],
   "source": [
    "avg_rating.plot.barh()"
   ]
  },
  {
   "cell_type": "markdown",
   "id": "outside-treatment",
   "metadata": {},
   "source": [
    "## Sample customer reviews using textblob\n",
    "Pull three different samples and see if the sentiment corresponds to what the text says"
   ]
  },
  {
   "cell_type": "code",
   "execution_count": 20,
   "id": "trying-packaging",
   "metadata": {},
   "outputs": [
    {
     "name": "stdout",
     "output_type": "stream",
     "text": [
      "Sentiment(polarity=0.10238095238095238, subjectivity=0.680952380952381)\n",
      "A flattering, super cozy coat.  will work well for cold, dry days and will look good with jeans or a dressier outfit.  i am 5' 5'', about 135 and the small fits great.\n"
     ]
    }
   ],
   "source": [
    "testim = cust_rev[cust_rev['rating']==5]['review_text'].iloc[10]\n",
    "tbtest = TextBlob(testim)\n",
    "print(tbtest.sentiment)\n",
    "print(testim)"
   ]
  },
  {
   "cell_type": "code",
   "execution_count": 21,
   "id": "political-sensitivity",
   "metadata": {},
   "outputs": [
    {
     "name": "stdout",
     "output_type": "stream",
     "text": [
      "Sentiment(polarity=0.23627450980392156, subjectivity=0.43823529411764706)\n",
      "I am in need of easy comfortable tops for everyday wear. i bought this top mostly because of the cute buttons. when i received it, it looked exactly as it does in the picture online, however, the buttons kept slipping out of their homes because the holes were slightly too big. the shirt fit but was just a tad snug near the upper arms, which would stretch and loosen up throughout the day. it's definitely a comfortable shirt, but it felt more like a pajama top. it's going back.\n"
     ]
    }
   ],
   "source": [
    "testim = cust_rev[cust_rev['rating']==3]['review_text'].iloc[10]\n",
    "tbtest = TextBlob(testim)\n",
    "print(tbtest.sentiment)\n",
    "print(testim)"
   ]
  },
  {
   "cell_type": "code",
   "execution_count": 22,
   "id": "brown-september",
   "metadata": {},
   "outputs": [
    {
     "name": "stdout",
     "output_type": "stream",
     "text": [
      "Sentiment(polarity=0.09653679653679653, subjectivity=0.5678787878787879)\n",
      "The title says it all....this fabric of this top is both the best and worst part of the design. the colors are vibrant and the combination of materials (shoulder is a knit, sweater-like navy fabric) is interesting. however, that is where the positive comments end on this one. the top is so scratchy,, stiff, and, frankly, uncomfortable. i cannot imagine wanting to wear it. it could benefit from a lining, and that might have solved the problem of scratchy, itchy fabric.\n",
      "\n",
      "the stiff fabric of the bo\n"
     ]
    }
   ],
   "source": [
    "testim = cust_rev[cust_rev['rating']==1]['review_text'].iloc[5]\n",
    "tbtest = TextBlob(testim)\n",
    "print(tbtest.sentiment)\n",
    "print(testim)"
   ]
  },
  {
   "cell_type": "markdown",
   "id": "visible-driver",
   "metadata": {},
   "source": [
    "Use Texblob to split a review into words and sentences"
   ]
  },
  {
   "cell_type": "code",
   "execution_count": 26,
   "id": "clean-penalty",
   "metadata": {},
   "outputs": [
    {
     "data": {
      "text/plain": [
       "WordList(['The', 'title', 'says', 'it', 'all', 'this', 'fabric', 'of', 'this', 'top', 'is', 'both', 'the', 'best', 'and', 'worst', 'part', 'of', 'the', 'design', 'the', 'colors', 'are', 'vibrant', 'and', 'the', 'combination', 'of', 'materials', 'shoulder', 'is', 'a', 'knit', 'sweater-like', 'navy', 'fabric', 'is', 'interesting', 'however', 'that', 'is', 'where', 'the', 'positive', 'comments', 'end', 'on', 'this', 'one', 'the', 'top', 'is', 'so', 'scratchy', 'stiff', 'and', 'frankly', 'uncomfortable', 'i', 'can', 'not', 'imagine', 'wanting', 'to', 'wear', 'it', 'it', 'could', 'benefit', 'from', 'a', 'lining', 'and', 'that', 'might', 'have', 'solved', 'the', 'problem', 'of', 'scratchy', 'itchy', 'fabric', 'the', 'stiff', 'fabric', 'of', 'the', 'bo'])"
      ]
     },
     "execution_count": 26,
     "metadata": {},
     "output_type": "execute_result"
    }
   ],
   "source": [
    "tbtest.words"
   ]
  },
  {
   "cell_type": "code",
   "execution_count": 27,
   "id": "about-restoration",
   "metadata": {},
   "outputs": [
    {
     "data": {
      "text/plain": [
       "[Sentence(\"The title says it all....this fabric of this top is both the best and worst part of the design.\"),\n",
       " Sentence(\"the colors are vibrant and the combination of materials (shoulder is a knit, sweater-like navy fabric) is interesting.\"),\n",
       " Sentence(\"however, that is where the positive comments end on this one.\"),\n",
       " Sentence(\"the top is so scratchy,, stiff, and, frankly, uncomfortable.\"),\n",
       " Sentence(\"i cannot imagine wanting to wear it.\"),\n",
       " Sentence(\"it could benefit from a lining, and that might have solved the problem of scratchy, itchy fabric.\"),\n",
       " Sentence(\"the stiff fabric of the bo\")]"
      ]
     },
     "execution_count": 27,
     "metadata": {},
     "output_type": "execute_result"
    }
   ],
   "source": [
    "tbtest.sentences"
   ]
  },
  {
   "cell_type": "markdown",
   "id": "exempt-accreditation",
   "metadata": {},
   "source": [
    "#### Cleaning nulls in the review_text column"
   ]
  },
  {
   "cell_type": "code",
   "execution_count": 29,
   "id": "nuclear-logic",
   "metadata": {},
   "outputs": [
    {
     "name": "stdout",
     "output_type": "stream",
     "text": [
      "<class 'pandas.core.frame.DataFrame'>\n",
      "Int64Index: 22641 entries, 0 to 23485\n",
      "Data columns (total 5 columns):\n",
      " #   Column           Non-Null Count  Dtype \n",
      "---  ------           --------------  ----- \n",
      " 0   title            19675 non-null  object\n",
      " 1   review_text      22641 non-null  object\n",
      " 2   rating           22641 non-null  int64 \n",
      " 3   division_name    22628 non-null  object\n",
      " 4   department_name  22628 non-null  object\n",
      "dtypes: int64(1), object(4)\n",
      "memory usage: 1.0+ MB\n"
     ]
    },
    {
     "name": "stderr",
     "output_type": "stream",
     "text": [
      "<ipython-input-29-efd318cdc2be>:1: SettingWithCopyWarning: \n",
      "A value is trying to be set on a copy of a slice from a DataFrame\n",
      "\n",
      "See the caveats in the documentation: https://pandas.pydata.org/pandas-docs/stable/user_guide/indexing.html#returning-a-view-versus-a-copy\n",
      "  cust_rev.dropna(axis=0, subset=['review_text'], inplace=True)\n"
     ]
    }
   ],
   "source": [
    "cust_rev.dropna(axis=0, subset=['review_text'], inplace=True)\n",
    "cust_rev.info()"
   ]
  },
  {
   "cell_type": "markdown",
   "id": "distant-liberty",
   "metadata": {},
   "source": [
    "## Use a function to apply sentiment analysis to the whole data set\n",
    "For this create a lambda function that extracts the polarity, and apply it to the review_text column"
   ]
  },
  {
   "cell_type": "code",
   "execution_count": 30,
   "id": "polish-blake",
   "metadata": {},
   "outputs": [],
   "source": [
    "pol = lambda x: TextBlob(x).polarity"
   ]
  },
  {
   "cell_type": "code",
   "execution_count": 31,
   "id": "pleasant-participant",
   "metadata": {},
   "outputs": [
    {
     "name": "stderr",
     "output_type": "stream",
     "text": [
      "<ipython-input-31-318d800948cd>:1: SettingWithCopyWarning: \n",
      "A value is trying to be set on a copy of a slice from a DataFrame.\n",
      "Try using .loc[row_indexer,col_indexer] = value instead\n",
      "\n",
      "See the caveats in the documentation: https://pandas.pydata.org/pandas-docs/stable/user_guide/indexing.html#returning-a-view-versus-a-copy\n",
      "  cust_rev['polarity'] = cust_rev['review_text'].map(pol)\n"
     ]
    }
   ],
   "source": [
    "cust_rev['polarity'] = cust_rev['review_text'].map(pol)"
   ]
  },
  {
   "cell_type": "code",
   "execution_count": 32,
   "id": "historic-emission",
   "metadata": {},
   "outputs": [
    {
     "data": {
      "text/html": [
       "<div>\n",
       "<style scoped>\n",
       "    .dataframe tbody tr th:only-of-type {\n",
       "        vertical-align: middle;\n",
       "    }\n",
       "\n",
       "    .dataframe tbody tr th {\n",
       "        vertical-align: top;\n",
       "    }\n",
       "\n",
       "    .dataframe thead th {\n",
       "        text-align: right;\n",
       "    }\n",
       "</style>\n",
       "<table border=\"1\" class=\"dataframe\">\n",
       "  <thead>\n",
       "    <tr style=\"text-align: right;\">\n",
       "      <th></th>\n",
       "      <th>title</th>\n",
       "      <th>review_text</th>\n",
       "      <th>rating</th>\n",
       "      <th>division_name</th>\n",
       "      <th>department_name</th>\n",
       "      <th>polarity</th>\n",
       "    </tr>\n",
       "  </thead>\n",
       "  <tbody>\n",
       "    <tr>\n",
       "      <th>0</th>\n",
       "      <td>NaN</td>\n",
       "      <td>Absolutely wonderful - silky and sexy and comf...</td>\n",
       "      <td>4</td>\n",
       "      <td>Initmates</td>\n",
       "      <td>Intimate</td>\n",
       "      <td>0.633333</td>\n",
       "    </tr>\n",
       "    <tr>\n",
       "      <th>1</th>\n",
       "      <td>NaN</td>\n",
       "      <td>Love this dress!  it's sooo pretty.  i happene...</td>\n",
       "      <td>5</td>\n",
       "      <td>General</td>\n",
       "      <td>Dresses</td>\n",
       "      <td>0.339583</td>\n",
       "    </tr>\n",
       "    <tr>\n",
       "      <th>2</th>\n",
       "      <td>Some major design flaws</td>\n",
       "      <td>I had such high hopes for this dress and reall...</td>\n",
       "      <td>3</td>\n",
       "      <td>General</td>\n",
       "      <td>Dresses</td>\n",
       "      <td>0.073675</td>\n",
       "    </tr>\n",
       "    <tr>\n",
       "      <th>3</th>\n",
       "      <td>My favorite buy!</td>\n",
       "      <td>I love, love, love this jumpsuit. it's fun, fl...</td>\n",
       "      <td>5</td>\n",
       "      <td>General Petite</td>\n",
       "      <td>Bottoms</td>\n",
       "      <td>0.550000</td>\n",
       "    </tr>\n",
       "    <tr>\n",
       "      <th>4</th>\n",
       "      <td>Flattering shirt</td>\n",
       "      <td>This shirt is very flattering to all due to th...</td>\n",
       "      <td>5</td>\n",
       "      <td>General</td>\n",
       "      <td>Tops</td>\n",
       "      <td>0.512891</td>\n",
       "    </tr>\n",
       "  </tbody>\n",
       "</table>\n",
       "</div>"
      ],
      "text/plain": [
       "                     title                                        review_text  \\\n",
       "0                      NaN  Absolutely wonderful - silky and sexy and comf...   \n",
       "1                      NaN  Love this dress!  it's sooo pretty.  i happene...   \n",
       "2  Some major design flaws  I had such high hopes for this dress and reall...   \n",
       "3         My favorite buy!  I love, love, love this jumpsuit. it's fun, fl...   \n",
       "4         Flattering shirt  This shirt is very flattering to all due to th...   \n",
       "\n",
       "   rating   division_name department_name  polarity  \n",
       "0       4       Initmates        Intimate  0.633333  \n",
       "1       5         General         Dresses  0.339583  \n",
       "2       3         General         Dresses  0.073675  \n",
       "3       5  General Petite         Bottoms  0.550000  \n",
       "4       5         General            Tops  0.512891  "
      ]
     },
     "execution_count": 32,
     "metadata": {},
     "output_type": "execute_result"
    }
   ],
   "source": [
    "cust_rev.head()"
   ]
  },
  {
   "cell_type": "markdown",
   "id": "preceding-understanding",
   "metadata": {},
   "source": [
    "Explore the minimum polarity by grouping per division and department "
   ]
  },
  {
   "cell_type": "code",
   "execution_count": 36,
   "id": "artistic-blake",
   "metadata": {},
   "outputs": [
    {
     "data": {
      "text/plain": [
       "division_name   department_name\n",
       "General         Tops              -0.975000\n",
       "                Dresses           -0.916667\n",
       "                Jackets           -0.750000\n",
       "General Petite  Tops              -0.700000\n",
       "                Intimate          -0.575000\n",
       "                Jackets           -0.562500\n",
       "General         Bottoms           -0.533333\n",
       "General Petite  Dresses           -0.400000\n",
       "Initmates       Intimate          -0.392333\n",
       "General         Trend             -0.270833\n",
       "General Petite  Bottoms           -0.257778\n",
       "                Trend             -0.083333\n",
       "Name: polarity, dtype: float64"
      ]
     },
     "execution_count": 36,
     "metadata": {},
     "output_type": "execute_result"
    }
   ],
   "source": [
    "min_pol = cust_rev.groupby(['division_name','department_name'])['polarity'].min().sort_values()\n",
    "min_pol"
   ]
  },
  {
   "cell_type": "code",
   "execution_count": 37,
   "id": "pregnant-assets",
   "metadata": {},
   "outputs": [
    {
     "data": {
      "text/plain": [
       "<AxesSubplot:ylabel='division_name,department_name'>"
      ]
     },
     "execution_count": 37,
     "metadata": {},
     "output_type": "execute_result"
    },
    {
     "data": {
      "image/png": "[encoded data removed]",
      "text/plain": [
       "<Figure size 432x288 with 1 Axes>"
      ]
     },
     "metadata": {
      "needs_background": "light"
     },
     "output_type": "display_data"
    }
   ],
   "source": [
    "min_pol.plot.barh()"
   ]
  },
  {
   "cell_type": "markdown",
   "id": "generous-separation",
   "metadata": {},
   "source": [
    "do the same with the average polarity"
   ]
  },
  {
   "cell_type": "code",
   "execution_count": 38,
   "id": "fifty-trailer",
   "metadata": {},
   "outputs": [],
   "source": [
    "avg_pol = cust_rev.groupby(['division_name','department_name'])['polarity'].mean().sort_values()"
   ]
  },
  {
   "cell_type": "code",
   "execution_count": 39,
   "id": "regular-mobility",
   "metadata": {},
   "outputs": [
    {
     "data": {
      "text/plain": [
       "<AxesSubplot:ylabel='division_name,department_name'>"
      ]
     },
     "execution_count": 39,
     "metadata": {},
     "output_type": "execute_result"
    },
    {
     "data": {
      "image/png": "[encoded data removed]",
      "text/plain": [
       "<Figure size 432x288 with 1 Axes>"
      ]
     },
     "metadata": {
      "needs_background": "light"
     },
     "output_type": "display_data"
    }
   ],
   "source": [
    "avg_pol.plot.barh()"
   ]
  },
  {
   "cell_type": "markdown",
   "id": "eastern-capture",
   "metadata": {},
   "source": [
    "* how accurate is the sentiment polarity calculated on this data set? how can you tell ?\n",
    "\n",
    "We will compare the average of the ratigs vs the average of the polarity in a combined axis graph, that way we can see if they correlate "
   ]
  },
  {
   "cell_type": "code",
   "execution_count": 59,
   "id": "residential-musical",
   "metadata": {},
   "outputs": [
    {
     "name": "stderr",
     "output_type": "stream",
     "text": [
      "<ipython-input-59-140f0ae0b596>:1: FutureWarning: Indexing with multiple keys (implicitly converted to a tuple of keys) will be deprecated, use a list instead.\n",
      "  compare = cust_rev.groupby(['division_name','department_name'])['polarity','rating'].mean()\n"
     ]
    },
    {
     "data": {
      "text/html": [
       "<div>\n",
       "<style scoped>\n",
       "    .dataframe tbody tr th:only-of-type {\n",
       "        vertical-align: middle;\n",
       "    }\n",
       "\n",
       "    .dataframe tbody tr th {\n",
       "        vertical-align: top;\n",
       "    }\n",
       "\n",
       "    .dataframe thead th {\n",
       "        text-align: right;\n",
       "    }\n",
       "</style>\n",
       "<table border=\"1\" class=\"dataframe\">\n",
       "  <thead>\n",
       "    <tr style=\"text-align: right;\">\n",
       "      <th></th>\n",
       "      <th></th>\n",
       "      <th>polarity</th>\n",
       "      <th>rating</th>\n",
       "    </tr>\n",
       "    <tr>\n",
       "      <th>division_name</th>\n",
       "      <th>department_name</th>\n",
       "      <th></th>\n",
       "      <th></th>\n",
       "    </tr>\n",
       "  </thead>\n",
       "  <tbody>\n",
       "    <tr>\n",
       "      <th rowspan=\"5\" valign=\"top\">General</th>\n",
       "      <th>Bottoms</th>\n",
       "      <td>0.245849</td>\n",
       "      <td>4.260727</td>\n",
       "    </tr>\n",
       "    <tr>\n",
       "      <th>Dresses</th>\n",
       "      <td>0.251091</td>\n",
       "      <td>4.150318</td>\n",
       "    </tr>\n",
       "    <tr>\n",
       "      <th>Jackets</th>\n",
       "      <td>0.237141</td>\n",
       "      <td>4.225962</td>\n",
       "    </tr>\n",
       "    <tr>\n",
       "      <th>Tops</th>\n",
       "      <td>0.247025</td>\n",
       "      <td>4.136778</td>\n",
       "    </tr>\n",
       "    <tr>\n",
       "      <th>Trend</th>\n",
       "      <td>0.203986</td>\n",
       "      <td>3.852632</td>\n",
       "    </tr>\n",
       "    <tr>\n",
       "      <th rowspan=\"6\" valign=\"top\">General Petite</th>\n",
       "      <th>Bottoms</th>\n",
       "      <td>0.259258</td>\n",
       "      <td>4.315226</td>\n",
       "    </tr>\n",
       "    <tr>\n",
       "      <th>Dresses</th>\n",
       "      <td>0.248380</td>\n",
       "      <td>4.122328</td>\n",
       "    </tr>\n",
       "    <tr>\n",
       "      <th>Intimate</th>\n",
       "      <td>0.239517</td>\n",
       "      <td>4.242291</td>\n",
       "    </tr>\n",
       "    <tr>\n",
       "      <th>Jackets</th>\n",
       "      <td>0.241773</td>\n",
       "      <td>4.301587</td>\n",
       "    </tr>\n",
       "    <tr>\n",
       "      <th>Tops</th>\n",
       "      <td>0.256835</td>\n",
       "      <td>4.197520</td>\n",
       "    </tr>\n",
       "    <tr>\n",
       "      <th>Trend</th>\n",
       "      <td>0.195925</td>\n",
       "      <td>3.782609</td>\n",
       "    </tr>\n",
       "    <tr>\n",
       "      <th>Initmates</th>\n",
       "      <th>Intimate</th>\n",
       "      <td>0.256979</td>\n",
       "      <td>4.275596</td>\n",
       "    </tr>\n",
       "  </tbody>\n",
       "</table>\n",
       "</div>"
      ],
      "text/plain": [
       "                                polarity    rating\n",
       "division_name  department_name                    \n",
       "General        Bottoms          0.245849  4.260727\n",
       "               Dresses          0.251091  4.150318\n",
       "               Jackets          0.237141  4.225962\n",
       "               Tops             0.247025  4.136778\n",
       "               Trend            0.203986  3.852632\n",
       "General Petite Bottoms          0.259258  4.315226\n",
       "               Dresses          0.248380  4.122328\n",
       "               Intimate         0.239517  4.242291\n",
       "               Jackets          0.241773  4.301587\n",
       "               Tops             0.256835  4.197520\n",
       "               Trend            0.195925  3.782609\n",
       "Initmates      Intimate         0.256979  4.275596"
      ]
     },
     "execution_count": 59,
     "metadata": {},
     "output_type": "execute_result"
    }
   ],
   "source": [
    "compare = cust_rev.groupby(['division_name','department_name'])['polarity','rating'].mean()\n",
    "compare"
   ]
  },
  {
   "cell_type": "code",
   "execution_count": 64,
   "id": "ahead-drill",
   "metadata": {},
   "outputs": [
    {
     "data": {
      "image/png": "[encoded data removed]",
      "text/plain": [
       "<Figure size 432x288 with 2 Axes>"
      ]
     },
     "metadata": {
      "needs_background": "light"
     },
     "output_type": "display_data"
    }
   ],
   "source": [
    "fig = plt.figure()\n",
    "\n",
    "ax = fig.add_subplot() \n",
    "ax2 = ax.twinx() \n",
    "\n",
    "width = 0.4\n",
    "\n",
    "compare.polarity.plot(kind='bar', color='teal', ax=ax, width=width, position=1)\n",
    "compare.rating.plot(kind='bar', color='navy', ax=ax2, width=width, position=0)\n",
    "\n",
    "ax.set_ylabel('polarity (teal)')\n",
    "ax2.set_ylabel('rating (blue)')\n",
    "\n",
    "plt.show()"
   ]
  },
  {
   "cell_type": "markdown",
   "id": "friendly-archive",
   "metadata": {},
   "source": [
    "But to see how well our sentiment analysis correlates to the ratings given by the customers, we can plot them both in a scatterplot, and see if the points have a strong correlation. In this case we can see that the points are close to correlation, but are quite far from being in the same line. a better polarity analysis would give better correlation in this situation. "
   ]
  },
  {
   "cell_type": "code",
   "execution_count": 71,
   "id": "painful-exception",
   "metadata": {},
   "outputs": [
    {
     "data": {
      "text/plain": [
       "<AxesSubplot:xlabel='polarity', ylabel='rating'>"
      ]
     },
     "execution_count": 71,
     "metadata": {},
     "output_type": "execute_result"
    },
    {
     "data": {
      "image/png": "[encoded data removed]",
      "text/plain": [
       "<Figure size 432x288 with 1 Axes>"
      ]
     },
     "metadata": {
      "needs_background": "light"
     },
     "output_type": "display_data"
    }
   ],
   "source": [
    "sns.regplot(data=compare, x='polarity', y='rating')"
   ]
  },
  {
   "cell_type": "markdown",
   "id": "laden-expense",
   "metadata": {},
   "source": [
    "## More questions for further analysis:\n",
    "\n",
    "3. through sample /limited experimentation, investigate whether processing / cleaning the review text might lead to a more accurate sentiment calculation\n",
    "4. textblob has an alternative, naive bayes sentiment analyser that is trained on movie reviews - do you think this could be more accurate? what features would you choose to include if training a sentiment analysis model ? \n",
    "5. could there be advantages to utilising spacy+textblob instead? why? how would you identify a sentiment tool better suited to this data set?\n",
    "6. install the needed packages and apply a second sentiment analysis method, end to end to evaluate the accuracy of the first approach\n",
    "7. summarise what you have learnt in a .md file to accompany your notebook or annotations /images in the notebook itself \n",
    "8. tidy up your code as much as possible, consider modularising any elements of what you have done for re-usability and efficiency\n"
   ]
  },
  {
   "cell_type": "code",
   "execution_count": null,
   "id": "oriented-shakespeare",
   "metadata": {},
   "outputs": [],
   "source": []
  }
 ],
 "metadata": {
  "kernelspec": {
   "display_name": "Python 3",
   "language": "python",
   "name": "python3"
  },
  "language_info": {
   "codemirror_mode": {
    "name": "ipython",
    "version": 3
   },
   "file_extension": ".py",
   "mimetype": "text/x-python",
   "name": "python",
   "nbconvert_exporter": "python",
   "pygments_lexer": "ipython3",
   "version": "3.9.2"
  }
 },
 "nbformat": 4,
 "nbformat_minor": 5
}
