{
 "cells": [
  {
   "cell_type": "markdown",
   "id": "nominated-banner",
   "metadata": {},
   "source": [
    "![image](Capture.jpg)"
   ]
  },
  {
   "cell_type": "markdown",
   "id": "designing-tuesday",
   "metadata": {},
   "source": [
    "# Computer Vision Lab\n",
    "1) In a jupyter notebook, using the appropriate markdown method include at least one link to a website, news article or blog which discusses ethical issues with computer vision applications and add your personal thoughts and interpretation of this issue.\n",
    "\n",
    "For this i chose this article from the New Yorker:  \n",
    "[Who should stop unethical A.I.?]('https://www.newyorker.com/tech/annals-of-technology/who-should-stop-unethical-ai'), by Matthew Hutson (Feb. 2021)\n",
    "\n",
    "The article speaks about ethical issues that shine through different A.I. problems and how public often reacts to them. Many projects are published by researchers, and have a strong public reaction, but the position from many of these researchers is that many of the projects they published are sometimes already being deployed, used and sold by companies in a less public way. \n",
    "\n",
    "In my opinion, publishing results, even though the project shows clear ethical issues, create dialog and brings to the surface problems that researchers could not foresee, and help to create grounds for future researchers into being able to tackle the same project in a more ethical way. In the other hand, i believe that nowadays with how accesible these papers sometimes are, people react in extreme ways, discouraging for further investigation in certain matters. \n",
    "\n",
    "The article also mentions biased systems being deployed and creating inequality down the road. I also believe regulation is very important for researchers to be able to deploy their own solutions, and regulators should be aware of bias in data sets used to train models. Not only they should define in what kind of applications the use of machine learning is accepted, and until what extent they have the power to take important decisions over each indiviual's fate, but also trying to define how training datasets look like and who is represented in them.\n",
    "\n",
    "Techogy has definitely leaped forward much faster than people as a whole was able to regulate, but probably with machine learning being used more and more in different applications, will bring regulators attention, and help create and define a more healthy ecosystem. "
   ]
  },
  {
   "cell_type": "markdown",
   "id": "brilliant-baking",
   "metadata": {},
   "source": [
    "2) Use the https://vision-explorer.allenai.org/text_to_image_generation to generate an image from a caption you provide (choosing a theme from the drop down list), which you should display inside your notebook with the caption you provided and an evaluation of how good a job you feel the machine has done\n",
    "\n",
    "My caption:\n",
    "\n",
    "a slim clock tower stands in a creepy town at sunset\n",
    "\n",
    "The result:\n",
    "\n",
    "![Tower](creepy_tower.png)\n",
    "\n",
    "\n",
    "I believe the caption nailed the sunset. The tower stands tall but is not so slim, and i don't really see the clock from the tower, but the town is pretty creepy. I would give it a 7/10, as I was asking this to a ML model, and not to Bob Ross! "
   ]
  },
  {
   "cell_type": "markdown",
   "id": "dangerous-transsexual",
   "metadata": {},
   "source": [
    "3) OPTIONAL (bonus+) read this blog article. Link the url to your notebook using the appropriate markdown technique and add a summary into your notebook (as markdown) of any image processing steps you saw the author employ. \n",
    "\n",
    "The steps were:\n",
    "\n",
    "    1- Bring the dataset. Has to be downloaded and unzipped. \n",
    "    2- Separate by dogs and cats in different directories, in order to retrieve them sith flow_from_directory in ImageDataGenerator class from keras\n",
    "    3- Initialize the notebook with the different packages\n",
    "    4- Not trust the data, manually check quickly the fotos of dogs and cats, to be sure they are well classified and clean unclear pictures\n",
    "    5- Load the datasets with keras. It'll transform the images but not normalize the color\n",
    "    6- one hot encode the labels, and check if the images are labeled correctly \n",
    "    7- split training and validation samples 80% for training and 20 for validation, and rescale all color levels between 0 an 1, as models work better this way.\n",
    "    8- define batch sizes, he uses 30 as too little or too smsall won't work well.\n",
    "    9- initialize the convolutional neural network, setting extra layers helped find the right fit for the model\n",
    "    10- check the results, plotting the history.\n",
    "    \n",
    "After taking these steps, further steps can be taking to improve the model. By using Data Augmentation, we can generate new pictures based in previous pictures, by flipping them, and zoom or rotate them, and these are perfectly good for the model to learn from them, This improves the accuracy without increasing overfitting."
   ]
  },
  {
   "cell_type": "markdown",
   "id": "stretch-acting",
   "metadata": {},
   "source": [
    "4) Give it a shot! \n",
    "\n",
    "Just ordered new computer parts and will give it for sure a shot after the last week project is done, seems a very fun project! \n"
   ]
  },
  {
   "cell_type": "code",
   "execution_count": null,
   "id": "instrumental-equity",
   "metadata": {},
   "outputs": [],
   "source": []
  }
 ],
 "metadata": {
  "kernelspec": {
   "display_name": "Python 3",
   "language": "python",
   "name": "python3"
  },
  "language_info": {
   "codemirror_mode": {
    "name": "ipython",
    "version": 3
   },
   "file_extension": ".py",
   "mimetype": "text/x-python",
   "name": "python",
   "nbconvert_exporter": "python",
   "pygments_lexer": "ipython3",
   "version": "3.9.2"
  }
 },
 "nbformat": 4,
 "nbformat_minor": 5
}
