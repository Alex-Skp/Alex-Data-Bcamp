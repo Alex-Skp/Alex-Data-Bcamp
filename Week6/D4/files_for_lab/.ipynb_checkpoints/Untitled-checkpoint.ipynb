{
 "cells": [
  {
   "cell_type": "markdown",
   "id": "romance-enclosure",
   "metadata": {},
   "source": [
    "![logo_ironhack_blue 7](https://user-images.githubusercontent.com/23629340/40541063-a07a0a8a-601a-11e8-91b5-2f13e4e6b441.png)\n",
    "\n",
    "# Lab | Inferential statistics - T-test & P-value\n",
    "\n",
    "### Instructions\n",
    "\n",
    "1. We will have another simple example on two sample t test (pooled- when the variances are equal). But this time this is a one sided t-test\n",
    "\n",
    "In a packing plant, a machine packs cartons with jars. It is supposed that a new machine will pack faster on the average than the machine currently used. To test that hypothesis, the times it takes each machine to pack ten cartons are recorded. The results, in seconds, are shown in the tables in the file `files_for_lab/machine.txt`.\n",
    "Assume that there is sufficient evidence to conduct the t test, does the data provide sufficient evidence to show if one machine is better than the other?\n"
   ]
  },
  {
   "cell_type": "code",
   "execution_count": 110,
   "id": "coral-forwarding",
   "metadata": {},
   "outputs": [],
   "source": [
    "import statistics as stats\n",
    "from scipy.stats import ttest_rel\n",
    "import pandas as pd\n",
    "import math\n"
   ]
  },
  {
   "cell_type": "code",
   "execution_count": 91,
   "id": "complimentary-baghdad",
   "metadata": {},
   "outputs": [],
   "source": [
    "new = [42.1,41,41.3,41.8,42.4,42.8,43.2,42.3,41.8,42.7]\n",
    "old = [42.7,43.6,43.8,43.3,42.5,43.5,43.1,41.7,44,44.1]\n"
   ]
  },
  {
   "cell_type": "markdown",
   "id": "painful-rebound",
   "metadata": {},
   "source": [
    "**Null Hypothesis (H0)**: new machine is as fast as old machine  \n",
    "**Alt. Hypothesis (H1)**: new machine is faster than old machine"
   ]
  },
  {
   "cell_type": "code",
   "execution_count": 101,
   "id": "naked-chambers",
   "metadata": {},
   "outputs": [
    {
     "name": "stdout",
     "output_type": "stream",
     "text": [
      "-1.0742986768393743\n"
     ]
    }
   ],
   "source": [
    "se_new = stats.stdev(new)\n",
    "se_old = stats.stdev(old)\n",
    "sed = math.sqrt(se_new**2 + se_old **2 )\n",
    "t_stat = (stats.mean(new) - stats.mean(old)) / sed\n",
    "\n",
    "print(t_stat)"
   ]
  },
  {
   "cell_type": "code",
   "execution_count": 93,
   "id": "determined-honey",
   "metadata": {},
   "outputs": [
    {
     "name": "stdout",
     "output_type": "stream",
     "text": [
      "18\n"
     ]
    }
   ],
   "source": [
    "#degrees of freedom \n",
    "dof = len(new)+len(old)-2\n",
    "print(dof)"
   ]
  },
  {
   "cell_type": "markdown",
   "id": "attractive-williams",
   "metadata": {},
   "source": [
    "having a degree of freedom = 18 and willing to have a 95 percent certainty in a one tail p-test gives us a Pvalue of:"
   ]
  },
  {
   "cell_type": "code",
   "execution_count": 94,
   "id": "corporate-clearance",
   "metadata": {},
   "outputs": [],
   "source": [
    "P = 1.734"
   ]
  },
  {
   "cell_type": "markdown",
   "id": "conditional-humidity",
   "metadata": {},
   "source": [
    "our T-value in absolute terms is still smaller than our P-value so we can't discard the null hypothesis."
   ]
  },
  {
   "cell_type": "code",
   "execution_count": null,
   "id": "aging-andrew",
   "metadata": {},
   "outputs": [],
   "source": []
  },
  {
   "cell_type": "markdown",
   "id": "removable-authorization",
   "metadata": {},
   "source": [
    "Using scipy we can do a "
   ]
  },
  {
   "cell_type": "code",
   "execution_count": 99,
   "id": "hairy-shannon",
   "metadata": {},
   "outputs": [
    {
     "name": "stdout",
     "output_type": "stream",
     "text": [
      "ttest_ind:            t = 3.06143  p = 0.0135403\n"
     ]
    }
   ],
   "source": [
    "t, p = ttest_rel(old, new)\n",
    "print(\"ttest_ind:            t = %g  p = %g\" % (t, p))"
   ]
  },
  {
   "cell_type": "code",
   "execution_count": null,
   "id": "spatial-national",
   "metadata": {},
   "outputs": [],
   "source": []
  },
  {
   "cell_type": "markdown",
   "id": "atomic-walker",
   "metadata": {},
   "source": [
    "2. An additional problem: In this case we can't assume that the population variances are equal. Hence in this case we cannot pool the variances.\n",
    "   Independent random samples of 17 sophomores and 13 juniors attending a large university yield the following data on grade point averages. Data is provided in the file `files_for_lab/student_gpa.txt`.\n",
    "   At the 5% significance level, do the data provide sufficient evidence to conclude that the mean GPAs of sophomores and juniors at the university differ?\n",
    "\n",
    "   Test statistics can be calculated as: [link to the image - Test statistics calculation for Unpooled Variance Case](https://education-team-2020.s3-eu-west-1.amazonaws.com/data-analytics/7.04/7.04-unpooled_variances.png)\n",
    "\n",
    "   Degrees of freedom is `(n1-1)+(n2-1)`."
   ]
  },
  {
   "cell_type": "code",
   "execution_count": 105,
   "id": "sustainable-compiler",
   "metadata": {},
   "outputs": [],
   "source": [
    "data = pd.read_csv(\"student_gpa.txt\",sep = '\\s+')"
   ]
  },
  {
   "cell_type": "code",
   "execution_count": 106,
   "id": "immediate-earth",
   "metadata": {},
   "outputs": [
    {
     "data": {
      "text/html": [
       "<div>\n",
       "<style scoped>\n",
       "    .dataframe tbody tr th:only-of-type {\n",
       "        vertical-align: middle;\n",
       "    }\n",
       "\n",
       "    .dataframe tbody tr th {\n",
       "        vertical-align: top;\n",
       "    }\n",
       "\n",
       "    .dataframe thead th {\n",
       "        text-align: right;\n",
       "    }\n",
       "</style>\n",
       "<table border=\"1\" class=\"dataframe\">\n",
       "  <thead>\n",
       "    <tr style=\"text-align: right;\">\n",
       "      <th></th>\n",
       "      <th>Sophomores</th>\n",
       "      <th>Juniors</th>\n",
       "    </tr>\n",
       "  </thead>\n",
       "  <tbody>\n",
       "    <tr>\n",
       "      <th>0</th>\n",
       "      <td>3.04</td>\n",
       "      <td>2.56</td>\n",
       "    </tr>\n",
       "    <tr>\n",
       "      <th>1</th>\n",
       "      <td>1.71</td>\n",
       "      <td>2.77</td>\n",
       "    </tr>\n",
       "    <tr>\n",
       "      <th>2</th>\n",
       "      <td>3.30</td>\n",
       "      <td>2.70</td>\n",
       "    </tr>\n",
       "    <tr>\n",
       "      <th>3</th>\n",
       "      <td>2.88</td>\n",
       "      <td>3.00</td>\n",
       "    </tr>\n",
       "    <tr>\n",
       "      <th>4</th>\n",
       "      <td>2.11</td>\n",
       "      <td>2.98</td>\n",
       "    </tr>\n",
       "    <tr>\n",
       "      <th>5</th>\n",
       "      <td>2.60</td>\n",
       "      <td>3.47</td>\n",
       "    </tr>\n",
       "    <tr>\n",
       "      <th>6</th>\n",
       "      <td>2.92</td>\n",
       "      <td>3.26</td>\n",
       "    </tr>\n",
       "    <tr>\n",
       "      <th>7</th>\n",
       "      <td>3.60</td>\n",
       "      <td>3.20</td>\n",
       "    </tr>\n",
       "    <tr>\n",
       "      <th>8</th>\n",
       "      <td>2.28</td>\n",
       "      <td>3.19</td>\n",
       "    </tr>\n",
       "    <tr>\n",
       "      <th>9</th>\n",
       "      <td>2.82</td>\n",
       "      <td>2.65</td>\n",
       "    </tr>\n",
       "    <tr>\n",
       "      <th>10</th>\n",
       "      <td>3.03</td>\n",
       "      <td>3.00</td>\n",
       "    </tr>\n",
       "    <tr>\n",
       "      <th>11</th>\n",
       "      <td>3.13</td>\n",
       "      <td>3.39</td>\n",
       "    </tr>\n",
       "    <tr>\n",
       "      <th>12</th>\n",
       "      <td>2.86</td>\n",
       "      <td>2.58</td>\n",
       "    </tr>\n",
       "    <tr>\n",
       "      <th>13</th>\n",
       "      <td>3.49</td>\n",
       "      <td>NaN</td>\n",
       "    </tr>\n",
       "    <tr>\n",
       "      <th>14</th>\n",
       "      <td>3.11</td>\n",
       "      <td>NaN</td>\n",
       "    </tr>\n",
       "    <tr>\n",
       "      <th>15</th>\n",
       "      <td>2.13</td>\n",
       "      <td>NaN</td>\n",
       "    </tr>\n",
       "    <tr>\n",
       "      <th>16</th>\n",
       "      <td>3.27</td>\n",
       "      <td>NaN</td>\n",
       "    </tr>\n",
       "  </tbody>\n",
       "</table>\n",
       "</div>"
      ],
      "text/plain": [
       "    Sophomores  Juniors\n",
       "0         3.04     2.56\n",
       "1         1.71     2.77\n",
       "2         3.30     2.70\n",
       "3         2.88     3.00\n",
       "4         2.11     2.98\n",
       "5         2.60     3.47\n",
       "6         2.92     3.26\n",
       "7         3.60     3.20\n",
       "8         2.28     3.19\n",
       "9         2.82     2.65\n",
       "10        3.03     3.00\n",
       "11        3.13     3.39\n",
       "12        2.86     2.58\n",
       "13        3.49      NaN\n",
       "14        3.11      NaN\n",
       "15        2.13      NaN\n",
       "16        3.27      NaN"
      ]
     },
     "execution_count": 106,
     "metadata": {},
     "output_type": "execute_result"
    }
   ],
   "source": [
    "data"
   ]
  },
  {
   "cell_type": "code",
   "execution_count": 116,
   "id": "incident-youth",
   "metadata": {},
   "outputs": [],
   "source": [
    "b = data['Sophomores']\n",
    "a = data['Juniors']"
   ]
  },
  {
   "cell_type": "code",
   "execution_count": 117,
   "id": "virtual-directive",
   "metadata": {},
   "outputs": [],
   "source": [
    "t = (a.mean()-b.mean())/math.sqrt((a.var()**2/len(a))+(b.var()**2/len(b)))"
   ]
  },
  {
   "cell_type": "code",
   "execution_count": 118,
   "id": "necessary-folks",
   "metadata": {},
   "outputs": [
    {
     "data": {
      "text/plain": [
       "2.024784655965095"
      ]
     },
     "execution_count": 118,
     "metadata": {},
     "output_type": "execute_result"
    }
   ],
   "source": [
    "t"
   ]
  },
  {
   "cell_type": "code",
   "execution_count": 121,
   "id": "objective-washer",
   "metadata": {},
   "outputs": [
    {
     "data": {
      "text/plain": [
       "32"
      ]
     },
     "execution_count": 121,
     "metadata": {},
     "output_type": "execute_result"
    }
   ],
   "source": [
    "len(a)+len(b)-2"
   ]
  },
  {
   "cell_type": "markdown",
   "id": "clear-survivor",
   "metadata": {},
   "source": [
    "Our Z value with 32 degrees of freedom and 95% certainty in our two tail test, gives z= 2.042.\n",
    "our T-value is smaller, so we can't discard that the mean GPAs differ from both both groups. There is not enough evidence for it ."
   ]
  },
  {
   "cell_type": "code",
   "execution_count": null,
   "id": "liked-boost",
   "metadata": {},
   "outputs": [],
   "source": []
  }
 ],
 "metadata": {
  "kernelspec": {
   "display_name": "Python 3",
   "language": "python",
   "name": "python3"
  },
  "language_info": {
   "codemirror_mode": {
    "name": "ipython",
    "version": 3
   },
   "file_extension": ".py",
   "mimetype": "text/x-python",
   "name": "python",
   "nbconvert_exporter": "python",
   "pygments_lexer": "ipython3",
   "version": "3.9.2"
  }
 },
 "nbformat": 4,
 "nbformat_minor": 5
}
