{
 "cells": [
  {
   "cell_type": "markdown",
   "metadata": {},
   "source": [
    "### Exercise - Writing Pseudocode"
   ]
  },
  {
   "cell_type": "markdown",
   "metadata": {},
   "source": [
    "#### Duel Of Sorcerers"
   ]
  },
  {
   "cell_type": "markdown",
   "metadata": {},
   "source": [
    "1. You are witnessing an epic battle between two powerful sorcerers: Gandalf and Saruman. Each sorcerer has 10 spells of variable power in their mind and they are going to throw them one after the other. The winner of the duel will be the one who wins more of those clashes between spells. Spells are represented as a list of 10 integers whose value equals the power of the spell.\n",
    "\n",
    "gandalf = [10, 11, 13, 30, 22, 11, 10, 33, 22, 22]  \n",
    "saruman = [23, 66, 12, 43, 12, 10, 44, 23, 12, 17]\n",
    "\n",
    "For example:\n",
    "The first clash is won by Saruman: 10 against 23, wins 23\n",
    "The second clash wins Saruman: 11 against 66, wins 66\n",
    "etc.\n",
    "\n",
    "You will create two variables, one for each sorcerer, where the sum of clashes won will be stored. Depending on which variable is greater at the end of the duel, you will show one of the following three results on the screen:\n",
    "Gandalf wins\n",
    "Saruman wins\n",
    "Tie\n",
    "\n",
    "Write a pseudocode to solve this problem and then code it !"
   ]
  },
  {
   "cell_type": "markdown",
   "metadata": {},
   "source": [
    "**Pseudocode:**"
   ]
  },
  {
   "cell_type": "code",
   "execution_count": null,
   "metadata": {},
   "outputs": [],
   "source": [
    "gandalf = List of gandalf powers\n",
    "saruman = list of saruman powers \n",
    "\n",
    "gandalf_wins = number of wins from gandalf\n",
    "saruman_wins = number of wins from saruman\n",
    "\n",
    "for i,x in enumerate(gandalf):\n",
    "    if saruman[i] is same as gandalf power(x):\n",
    "        continue loop\n",
    "    elif saruman[i] is bigger:\n",
    "        saruman_wins increments\n",
    "    else (gandalf power is bigger):\n",
    "        gandalf_wins increments \n",
    "\n",
    "if gandalf_wins is same as saruman_wins\n",
    "    print tie message\n",
    "elif gandalf_wins is bigger\n",
    "    print gandalf winning message\n",
    "else (saruman_wins is bigger)\n",
    "    print saruman winning message \n",
    "        "
   ]
  },
  {
   "cell_type": "markdown",
   "metadata": {},
   "source": [
    "**Code:**"
   ]
  },
  {
   "cell_type": "code",
   "execution_count": 5,
   "metadata": {},
   "outputs": [
    {
     "name": "stdout",
     "output_type": "stream",
     "text": [
      "Go back to the abyss! Fall into nothingness that awaits you and your master! (Gandalf wins!)\n"
     ]
    }
   ],
   "source": [
    "gandalf = [10, 11, 13, 30, 22, 11, 10, 33, 22, 22]\n",
    "saruman = [23, 66, 12, 43, 12, 10, 44, 23, 12, 17]\n",
    "\n",
    "gandalf_wins = 0\n",
    "saruman_wins = 0\n",
    "\n",
    "for i,x in enumerate(gandalf):\n",
    "    if saruman[i]==x:\n",
    "        continue \n",
    "    elif saruman[i] > x:\n",
    "        saruman_wins+=1\n",
    "    else: #Gandalf power is bigger\n",
    "        gandalf_wins+=1\n",
    "\n",
    "if gandalf_wins==saruman_wins:\n",
    "    print(\"The clash ended up tied!\")\n",
    "elif gandalf_wins>saruman_wins:\n",
    "    print(\"Go back to the abyss! Fall into nothingness that awaits you and your master! (Gandalf wins!)\")\n",
    "else: #saruman_wins is bigger\n",
    "    print(\"You Have Elected The Way Of ... Pain! (Saruman wins)\")\n",
    "        \n"
   ]
  },
  {
   "cell_type": "code",
   "execution_count": null,
   "metadata": {},
   "outputs": [],
   "source": []
  }
 ],
 "metadata": {
  "kernelspec": {
   "display_name": "Python 3",
   "language": "python",
   "name": "python3"
  },
  "language_info": {
   "codemirror_mode": {
    "name": "ipython",
    "version": 3
   },
   "file_extension": ".py",
   "mimetype": "text/x-python",
   "name": "python",
   "nbconvert_exporter": "python",
   "pygments_lexer": "ipython3",
   "version": "3.8.3"
  }
 },
 "nbformat": 4,
 "nbformat_minor": 2
}
