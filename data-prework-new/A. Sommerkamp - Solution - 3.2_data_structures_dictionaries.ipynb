{
 "cells": [
  {
   "cell_type": "markdown",
   "metadata": {},
   "source": [
    "### 1. Exercise - Dictionaries"
   ]
  },
  {
   "cell_type": "markdown",
   "metadata": {},
   "source": [
    "## 1.1\n",
    "You are given this dictionary."
   ]
  },
  {
   "cell_type": "code",
   "execution_count": 2,
   "metadata": {},
   "outputs": [],
   "source": [
    "word_freq = {'love': 25, 'conversation': 1, 'every': 6, \"we're\": 1, 'plate': 1, 'sour': 1, 'jukebox': 1, 'now': 11, 'taxi': 1, 'fast': 1, 'bag': 1, 'man': 1, 'push': 3, 'baby': 14, 'going': 1, 'you': 16, \"don't\": 2, 'one': 1, 'mind': 2, 'backseat': 1, 'friends': 1, 'then': 3, 'know': 2}"
   ]
  },
  {
   "cell_type": "code",
   "execution_count": 31,
   "metadata": {},
   "outputs": [
    {
     "name": "stdout",
     "output_type": "stream",
     "text": [
      "there are  23  key-value pairs in the dictionary.\n",
      "The keys are: \n",
      " dict_keys(['love', 'conversation', 'every', \"we're\", 'plate', 'sour', 'jukebox', 'now', 'taxi', 'fast', 'bag', 'man', 'push', 'baby', 'going', 'you', \"don't\", 'one', 'mind', 'backseat', 'friends', 'then', 'know'])\n",
      "The word 'friends' shows up times:  1\n",
      "The word 'taxi' shows up times:  1\n",
      "The word 'jukebox' shows up times:  1\n",
      "The word begin is not in the dictionary... yet\n",
      "The frequency of the first word ' love ' is:  25\n",
      "The frequency of the last word ' body ' is:  17\n"
     ]
    }
   ],
   "source": [
    "#Answer the following questions:   \n",
    "\n",
    "#How many key-value pairs are in this dictionary?\n",
    "print(\"there are \",len(word_freq.keys()),\" key-value pairs in the dictionary.\")\n",
    "\n",
    "#What keys are present in this dictionary? \n",
    "print(\"The keys are: \\n\", word_freq.keys())\n",
    "\n",
    "#What is the frequency of following words in the dictionary: \n",
    "#   - friends\n",
    "print(\"The word 'friends' shows up times: \",word_freq['friends'])\n",
    "#   - taxi \n",
    "print(\"The word 'taxi' shows up times: \",word_freq['taxi'])\n",
    "#   - jukebox\n",
    "print(\"The word 'jukebox' shows up times: \",word_freq['jukebox'])\n",
    "# Is the word `begin` present in the dictionary ?\n",
    "#print(word_freq(begin)) \n",
    "#produces an error so i assume is not in.\n",
    "print(\"The word begin is not in the dictionary... yet\")\n",
    "\n",
    "# Add the following words and their frequencies to the dictionary:\n",
    "#       - 'begin': 1\n",
    "word_freq['begin'] = 1\n",
    "#       - 'start': 2\n",
    "word_freq['start'] = 2\n",
    "#       - 'over': 1\n",
    "word_freq['over'] = 1\n",
    "#       - 'body': 17 Wow this escalated quickly\n",
    "word_freq['body'] = 17\n",
    "\n",
    "# Use the following code to convert the result from word_freq.keys() to a list:\n",
    "# Store the results of the above code in a variable called `word`\n",
    "word = list(word_freq.keys())\n",
    "# What is the first word in the dictionary? What is the frequency of that word?\n",
    "print(\"The frequency of the first word '\",word[0],\"' is: \", word_freq[word[0]])\n",
    "# What is the last word in the dictionary? What is the frequency of that word?\n",
    "print(\"The frequency of the last word '\",word[(len(word)-1)],\"' is: \", word_freq[word[len(word)-1]])"
   ]
  },
  {
   "cell_type": "markdown",
   "metadata": {},
   "source": [
    "**2. Can a dictionary have two key-value pairs with the same key ?**"
   ]
  },
  {
   "cell_type": "code",
   "execution_count": 32,
   "metadata": {},
   "outputs": [
    {
     "name": "stdout",
     "output_type": "stream",
     "text": [
      "55\n"
     ]
    }
   ],
   "source": [
    "#No, if we try to assign the new key it will overwrite the old value and not create a new one \n",
    "word_freq['love'] = 55\n",
    "print(word_freq['love'])"
   ]
  },
  {
   "cell_type": "markdown",
   "metadata": {},
   "source": [
    "**3. Can a dictionary have two key-value pairs with the same value but different keys?**"
   ]
  },
  {
   "cell_type": "code",
   "execution_count": 33,
   "metadata": {},
   "outputs": [
    {
     "name": "stdout",
     "output_type": "stream",
     "text": [
      "55 55\n"
     ]
    }
   ],
   "source": [
    "#yes, it will create a new key and store the value\n",
    "word_freq['New Love'] = 55\n",
    "print(word_freq['love'], word_freq['New Love'])"
   ]
  },
  {
   "cell_type": "code",
   "execution_count": null,
   "metadata": {},
   "outputs": [],
   "source": []
  }
 ],
 "metadata": {
  "kernelspec": {
   "display_name": "Python 3",
   "language": "python",
   "name": "python3"
  },
  "language_info": {
   "codemirror_mode": {
    "name": "ipython",
    "version": 3
   },
   "file_extension": ".py",
   "mimetype": "text/x-python",
   "name": "python",
   "nbconvert_exporter": "python",
   "pygments_lexer": "ipython3",
   "version": "3.8.3"
  }
 },
 "nbformat": 4,
 "nbformat_minor": 2
}
