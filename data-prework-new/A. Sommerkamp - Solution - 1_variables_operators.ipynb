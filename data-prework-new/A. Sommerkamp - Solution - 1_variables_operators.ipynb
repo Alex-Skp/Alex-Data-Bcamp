{
 "cells": [
  {
   "cell_type": "markdown",
   "metadata": {},
   "source": [
    "## 1. Excercise: Variables"
   ]
  },
  {
   "cell_type": "markdown",
   "metadata": {},
   "source": [
    "**1. For the following variables, use python to check the data type of the variables**"
   ]
  },
  {
   "cell_type": "code",
   "execution_count": 1,
   "metadata": {},
   "outputs": [],
   "source": [
    "x1 = 1.1\n",
    "\n",
    "x2 = \"Ironhack\"\n",
    "\n",
    "x3 = \"1.1\"\n",
    "\n",
    "x4 = True \n",
    "\n",
    "x5 = \"True\"\n",
    "\n",
    "x6 = -1"
   ]
  },
  {
   "cell_type": "code",
   "execution_count": 2,
   "metadata": {},
   "outputs": [
    {
     "name": "stdout",
     "output_type": "stream",
     "text": [
      "1.1\n",
      "<class 'float'>\n",
      "Ironhack\n",
      "<class 'str'>\n",
      "1.1\n",
      "<class 'str'>\n",
      "True\n",
      "<class 'bool'>\n",
      "True\n",
      "<class 'str'>\n",
      "-1\n",
      "<class 'int'>\n"
     ]
    }
   ],
   "source": [
    "print(x1) \n",
    "\n",
    "print(type(x1))\n",
    "\n",
    "print(x2) \n",
    "\n",
    "print(type(x2))\n",
    "\n",
    "print(x3) \n",
    "\n",
    "print(type(x3))\n",
    "\n",
    "print(x4) \n",
    "\n",
    "print(type(x4))\n",
    "\n",
    "print(x5) \n",
    "\n",
    "print(type(x5))\n",
    "\n",
    "print(x6) \n",
    "\n",
    "print(type(x6))\n",
    "\n"
   ]
  },
  {
   "cell_type": "markdown",
   "metadata": {},
   "source": [
    "**2. What is the difference x1 and x3.**"
   ]
  },
  {
   "cell_type": "code",
   "execution_count": 3,
   "metadata": {},
   "outputs": [
    {
     "name": "stdout",
     "output_type": "stream",
     "text": [
      "x1=  <class 'float'> , x2=  <class 'str'>\n",
      "x1 is a Float and x3 is a String\n"
     ]
    }
   ],
   "source": [
    "print(\"x1= \",type(x1),\", x2= \",type(x3))\n",
    "print(\"x1 is a Float and x3 is a String\")"
   ]
  },
  {
   "cell_type": "markdown",
   "metadata": {},
   "source": [
    "**3. What is the difference between x4 and x5**"
   ]
  },
  {
   "cell_type": "code",
   "execution_count": 5,
   "metadata": {},
   "outputs": [
    {
     "name": "stdout",
     "output_type": "stream",
     "text": [
      "x4=  <class 'bool'> , x5=  <class 'str'>\n",
      "x1 is a Boolean and x3 is a String\n"
     ]
    }
   ],
   "source": [
    "print(\"x4= \",type(x4),\", x5= \",type(x5))\n",
    "print(\"x1 is a Boolean and x3 is a String\")"
   ]
  },
  {
   "cell_type": "markdown",
   "metadata": {},
   "source": [
    "## 2. Exercise - Operators"
   ]
  },
  {
   "cell_type": "markdown",
   "metadata": {},
   "source": [
    "**1. In this problem we will show you how to take a user input. Use the code and then answer the questions \n",
    "that follow:**"
   ]
  },
  {
   "cell_type": "raw",
   "metadata": {},
   "source": [
    "x1 = input(\"Please enter an integer number: \")\n",
    "\n",
    "x2 = input(\"Please enter another integer number\")\n",
    "\n",
    "Print the values of the two variables?\n",
    "What is the data type of `x1` and `x2`?\n",
    "\n",
    "As you would notice, data type of `x1` and `x2` is string. Even though we entered integers, the input function\n",
    "converts them into string by default. Now we do some data type conversion from string to integers\n",
    "\n",
    "x1 = int(x1)  # This converts string into integer and re-initializes `x1`\n",
    "x2 = int(x2)  # This converts string into integer and re-initializes `x2`\n",
    "\n",
    "Print the values of the two variables?\n",
    "What is the data type of `x1` and `x2`?\n",
    "\n",
    "Now perform simple comparisons between `x1` and `x2`\n",
    "\n",
    "    Check if the two variables are equal ?\n",
    "    \n",
    "    Check if `x1` is greater than `x2`?\n",
    "    \n",
    "    Check if `x2` is greater than `x1`?\n",
    "    \n",
    "    Check if `x1` is not equal to `x2`?\n",
    "    \n",
    "\n",
    "Store the difference between the two varibles `x1` and `x2` in another variable `x3` \n",
    "(subtract the smaller number from the larger number)\n",
    "\n",
    "Increment the smaller of the two variables (`x1` and `x2`) with the difference. Again check if `x1` and `x2`\n",
    "are equal or not?"
   ]
  },
  {
   "cell_type": "code",
   "execution_count": 6,
   "metadata": {},
   "outputs": [
    {
     "name": "stdout",
     "output_type": "stream",
     "text": [
      "Please enter an integer number for x1: 5\n",
      "Please enter another integer number for x2: 4\n",
      "QUESTION 1: your inputs are: x1-> 5  and x2-> 4\n",
      "QUESTION 2: the type of x1 now is:  <class 'int'>  and the type of x2 now is:  <class 'int'>\n",
      "Variables are equal? False\n",
      "x1 is greater than x2? True\n",
      "x2 is greater than x1? False\n",
      "x1 is not equal to x2? True\n",
      "are x1 and x2 same now, after adding the difference to the smaller? True\n"
     ]
    }
   ],
   "source": [
    "x1 = input(\"Please enter an integer number for x1: \")\n",
    "\n",
    "x2 = input(\"Please enter another integer number for x2: \")\n",
    "\n",
    "print(\"QUESTION 1: your inputs are: x1->\",x1,\" and x2->\", x2)\n",
    "\n",
    "x1 = int(x1)\n",
    "x2 = int(x2)\n",
    "\n",
    "print(\"QUESTION 2: the type of x1 now is: \", type(x1), \" and the type of x2 now is: \", type(x2))\n",
    "\n",
    "print(\"Variables are equal?\" , x1==x2)\n",
    "print(\"x1 is greater than x2?\", x1>x2)\n",
    "print(\"x2 is greater than x1?\", x2>x1)\n",
    "print(\"x1 is not equal to x2?\", x1!=x2)\n",
    "if x1>x2:\n",
    "    x3 = x1-x2\n",
    "    x2 += x3\n",
    "else:\n",
    "    x3 = x2-x1\n",
    "    x1 += x3\n",
    "print(\"are x1 and x2 same now, after adding the difference to the smaller?\", x1==x2)"
   ]
  },
  {
   "cell_type": "markdown",
   "metadata": {},
   "source": [
    "**2. In the lesson we talked about 'math' library in python. [Here](https://docs.python.org/3/library/math.html) is a link to the documenation of this library. \n",
    "Go through the documentation and try any three more functions on a numerical variable that were not described \n",
    "in the lesson.**\n"
   ]
  },
  {
   "cell_type": "code",
   "execution_count": 8,
   "metadata": {},
   "outputs": [
    {
     "name": "stdout",
     "output_type": "stream",
     "text": [
      "insert the radius of the cirle in cm: 9\n",
      "the perimeter is: 56.548667764616276 cm and the surface is : 254.46900494077323 cm\n"
     ]
    }
   ],
   "source": [
    "from math import pi\n",
    "r = int(input(\"insert the radius of the cirle in cm: \"))\n",
    "print(\"the perimeter is:\", 2*r*pi, \"cm and the surface is :\", pi*r**2, \"cm\")"
   ]
  },
  {
   "cell_type": "code",
   "execution_count": 9,
   "metadata": {},
   "outputs": [
    {
     "name": "stdout",
     "output_type": "stream",
     "text": [
      "insert A: 45\n",
      "insert B: 5\n",
      "The greatest common divisor is:  5\n"
     ]
    }
   ],
   "source": [
    "from math import gcd \n",
    "a= int(input(\"insert A: \"))\n",
    "b= int(input(\"insert B: \"))\n",
    "print(\"The greatest common divisor is: \", gcd(a,b))"
   ]
  }
 ],
 "metadata": {
  "kernelspec": {
   "display_name": "Python 3",
   "language": "python",
   "name": "python3"
  },
  "language_info": {
   "codemirror_mode": {
    "name": "ipython",
    "version": 3
   },
   "file_extension": ".py",
   "mimetype": "text/x-python",
   "name": "python",
   "nbconvert_exporter": "python",
   "pygments_lexer": "ipython3",
   "version": "3.8.3"
  }
 },
 "nbformat": 4,
 "nbformat_minor": 2
}
