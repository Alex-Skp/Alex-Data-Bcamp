{
 "cells": [
  {
   "cell_type": "markdown",
   "metadata": {},
   "source": [
    "### 1. Exercise - Measures of Central Tendencies  "
   ]
  },
  {
   "cell_type": "markdown",
   "metadata": {},
   "source": [
    "**1. We saw that a dataset can have more than one mode. But can a dataset have more than one median? True or False**\n",
    "\n"
   ]
  },
  {
   "cell_type": "markdown",
   "metadata": {},
   "source": [
    "False, a dataset has only one median. It could happen that the median is repeated several times around the middle of the dataset, but that does not make the set have several median. It's always the central value, or the average of the two central values of the dataset.  "
   ]
  },
  {
   "cell_type": "markdown",
   "metadata": {},
   "source": [
    "**2. Given the data in the list:**  \n",
    " data = [4,  7,  5,  9,  8,  6,  7,  7,  8,  5,  6,  9,  8, 5,  8,  7,  4,  7, 3,  6,  8,  9,  7,  6,  9]\n",
    " \n",
    " What is the range, mean, median, and mode of the dataset. \n",
    " Create a new dictionary called `data_dictionary` and store the above answers as key value pairs in the dictionary. Print the dictionary.\n",
    " \n",
    " \n"
   ]
  },
  {
   "cell_type": "code",
   "execution_count": 2,
   "metadata": {},
   "outputs": [
    {
     "name": "stdout",
     "output_type": "stream",
     "text": [
      "{'range': 6, 'mean': 6.72, 'median': 7, 'mode': [7]}\n"
     ]
    }
   ],
   "source": [
    "#Solution manually calculating the values\n",
    "\n",
    "data = [4, 7, 5, 9, 8, 6, 7, 7, 8, 5, 6, 9, 8, 5, 8, 7, 4, 7, 3, 6, 8, 9, 7, 6, 9]\n",
    "\n",
    "import numpy as np\n",
    "\n",
    "data=[x for x in np.sort(data)]\n",
    "central_tend = {}\n",
    "\n",
    "#RANGE\n",
    "central_tend [\"range\"] = (max(data)-min(data) )\n",
    "\n",
    "#MEAN\n",
    "central_tend [\"mean\"] = sum(data)/len(data)\n",
    "\n",
    "#MEDIAN\n",
    "if len(data)%2 != 0:\n",
    "    central_tend [\"median\"] = data[int((len(data)+1)/2)-1]\n",
    "elif len(data) !=0:\n",
    "    central_tend [\"median\"] = (data[int(len(data)/2)-1]+data[int(len(data)/2)])/2\n",
    "else:\n",
    "    central_tend [\"median\"] = \"NO DATA\"\n",
    "    \n",
    "#MODE\n",
    "count_values={}\n",
    "for x in data:\n",
    "    count_values[x]= data.count(x)\n",
    "max_count = max(count_values.values())\n",
    "#for the case of a multimodal data set, we will display the mode as a list.\n",
    "central_tend[\"mode\"]=[]\n",
    "for values, count in count_values.items():\n",
    "    if count == max_count:\n",
    "        central_tend[\"mode\"].append(values)\n",
    "\n",
    "#OUTPUT    \n",
    "print(central_tend)"
   ]
  },
  {
   "cell_type": "code",
   "execution_count": 7,
   "metadata": {},
   "outputs": [
    {
     "name": "stdout",
     "output_type": "stream",
     "text": [
      "{'range': 6, 'mean': 6.72, 'median': 7, 'mode': 7}\n"
     ]
    }
   ],
   "source": [
    "#Solution using the statistics module \n",
    "data = [4, 7, 5, 9, 8, 6, 7, 7, 8, 5, 6, 9, 8, 5, 8, 7, 4, 7, 3, 6, 8, 9, 7, 6, 9]\n",
    "import statistics as stats\n",
    "\n",
    "central_tend = {}\n",
    "\n",
    "#RANGE\n",
    "central_tend[\"range\"] = (max(data)-min(data) )\n",
    "\n",
    "#MEAN\n",
    "central_tend[\"mean\"] = stats.mean(data)\n",
    "\n",
    "#MEDIAN\n",
    "central_tend[\"median\"] = stats.median(data)\n",
    "    \n",
    "#MODE\n",
    "central_tend[\"mode\"] = stats.mode(data)\n",
    "\n",
    "#OUTPUT    \n",
    "print(central_tend)"
   ]
  },
  {
   "cell_type": "markdown",
   "metadata": {},
   "source": [
    "**3. To find which statistic do you have to arrange the data in an ascending order?**\n",
    "\n"
   ]
  },
  {
   "cell_type": "markdown",
   "metadata": {},
   "source": [
    "To find the median is necessary to sort the data. In this case, i used a list comprehension, as the function .count wouldnt work with a numpy array. "
   ]
  },
  {
   "cell_type": "markdown",
   "metadata": {},
   "source": [
    "**4. How do you find the median when there are even number of data points?**\n",
    "\n"
   ]
  },
  {
   "cell_type": "markdown",
   "metadata": {},
   "source": [
    "By calculating the aritmetic mean of both central values. "
   ]
  },
  {
   "cell_type": "markdown",
   "metadata": {},
   "source": [
    "**5. What is the range for the data set**  \n",
    "    points = [-4,  17,  25,  19,  6,  11,  7]\n",
    "\n"
   ]
  },
  {
   "cell_type": "code",
   "execution_count": 118,
   "metadata": {},
   "outputs": [
    {
     "name": "stdout",
     "output_type": "stream",
     "text": [
      "The range is:  29\n"
     ]
    }
   ],
   "source": [
    "points = [-4, 17, 25, 19, 6, 11, 7]\n",
    "#The biggest minus the smallest value of the dataset\n",
    "print(\"The range is: \", max(points)-min(points))"
   ]
  },
  {
   "cell_type": "markdown",
   "metadata": {},
   "source": [
    "**6. What are outliers in a dataset? Which of the three - Mean, Median, and Mode - is more suseptible to change with presence of outliers in the data?**\n"
   ]
  },
  {
   "cell_type": "markdown",
   "metadata": {},
   "source": [
    "Outliers are values that are very big or very small, usually they show up from an input error, or an extreme unlikely case in the dataset. The most suseptible is the Mean, as it's the only measure of central tendency that actually adds up all the values in the dataset. Te median takes the middle spot, and the mode the most repeated, but never adds the values. "
   ]
  },
  {
   "cell_type": "code",
   "execution_count": null,
   "metadata": {},
   "outputs": [],
   "source": []
  }
 ],
 "metadata": {
  "kernelspec": {
   "display_name": "Python 3",
   "language": "python",
   "name": "python3"
  },
  "language_info": {
   "codemirror_mode": {
    "name": "ipython",
    "version": 3
   },
   "file_extension": ".py",
   "mimetype": "text/x-python",
   "name": "python",
   "nbconvert_exporter": "python",
   "pygments_lexer": "ipython3",
   "version": "3.8.3"
  }
 },
 "nbformat": 4,
 "nbformat_minor": 2
}
