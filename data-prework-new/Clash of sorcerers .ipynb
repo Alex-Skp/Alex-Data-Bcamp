{
 "cells": [
  {
   "cell_type": "code",
   "execution_count": 8,
   "metadata": {},
   "outputs": [],
   "source": [
    "def battle():\n",
    "    POWER = {\n",
    "    'Fireball': 50,\n",
    "    'Lightning bolt': 40,\n",
    "    'Magic arrow': 10,\n",
    "    'Black Tentacles': 25,\n",
    "    'Contagion': 45\n",
    "    }\n",
    "\n",
    "    gandalf = ['Fireball', 'Lightning bolt', 'Lightning bolt', 'Magic arrow', 'Fireball',\n",
    "    'Magic arrow', 'Lightning bolt', 'Fireball', 'Fireball', 'Fireball']\n",
    "\n",
    "    saruman = ['Contagion', 'Contagion', 'Black Tentacles', 'Fireball', 'Black Tentacles',\n",
    "    'Lightning bolt', 'Magic arrow', 'Contagion', 'Magic arrow', 'Magic arrow']\n",
    "    \n",
    "    gandalf_power = [POWER[x] for x in gandalf]\n",
    "    saruman_power = [POWER[x] for x in saruman]\n",
    "    \n",
    "    gandalf_wins = 0\n",
    "    saruman_wins = 0\n",
    "    \n",
    "\n",
    "    for i,x in enumerate(gandalf_power):\n",
    "        if x > saruman_power[i]:\n",
    "            gandalf_wins += 1\n",
    "            saruman_wins = 0\n",
    "        elif x < saruman_power[i]:\n",
    "            gandalf_wins = 0\n",
    "            saruman_wins +=1\n",
    "        else:\n",
    "            gandalf_wins = 0\n",
    "            saruman_wind = 0\n",
    "            #as the premises are winning 3 clashes in a row, in case of a tie, the score resets\n",
    "        if gandalf_wins == 3:\n",
    "            return 'Gandalf'\n",
    "        elif saruman_wins == 3:\n",
    "            return 'Saruman'\n",
    "            \n",
    "    print(gandalf_power)\n",
    "    print(saruman_power)"
   ]
  },
  {
   "cell_type": "code",
   "execution_count": 9,
   "metadata": {},
   "outputs": [
    {
     "data": {
      "text/plain": [
       "'Gandalf'"
      ]
     },
     "execution_count": 9,
     "metadata": {},
     "output_type": "execute_result"
    }
   ],
   "source": [
    "battle()"
   ]
  },
  {
   "cell_type": "code",
   "execution_count": 22,
   "metadata": {},
   "outputs": [],
   "source": [
    "def avg_spells():\n",
    "    import numpy as np\n",
    "    POWER = {\n",
    "    'Fireball': 50,\n",
    "    'Lightning bolt': 40,\n",
    "    'Magic arrow': 10,\n",
    "    'Black Tentacles': 25,\n",
    "    'Contagion': 45\n",
    "    }\n",
    "\n",
    "    gandalf = ['Fireball', 'Lightning bolt', 'Lightning bolt', 'Magic arrow', 'Fireball',\n",
    "    'Magic arrow', 'Lightning bolt', 'Fireball', 'Fireball', 'Fireball']\n",
    "\n",
    "    saruman = ['Contagion', 'Contagion', 'Black Tentacles', 'Fireball', 'Black Tentacles',\n",
    "    'Lightning bolt', 'Magic arrow', 'Contagion', 'Magic arrow', 'Magic arrow']\n",
    "    \n",
    "    gandalf_power = [POWER[x] for x in gandalf]\n",
    "    saruman_power = [POWER[x] for x in saruman]\n",
    "    avg_spells = sum(gandalf_power+saruman_power)/len(gandalf_power+saruman_power)\n",
    "    avg_spells = np.round(avg_spells,1)\n",
    "    return avg_spells"
   ]
  },
  {
   "cell_type": "code",
   "execution_count": 23,
   "metadata": {},
   "outputs": [
    {
     "data": {
      "text/plain": [
       "34.8"
      ]
     },
     "execution_count": 23,
     "metadata": {},
     "output_type": "execute_result"
    }
   ],
   "source": [
    "avg_spells()"
   ]
  },
  {
   "cell_type": "code",
   "execution_count": 37,
   "metadata": {},
   "outputs": [],
   "source": [
    "def stdev_spells():\n",
    "    import numpy as np\n",
    "    import statistics as stats\n",
    "    POWER = {\n",
    "    'Fireball': 50,\n",
    "    'Lightning bolt': 40,\n",
    "    'Magic arrow': 10,\n",
    "    'Black Tentacles': 25,\n",
    "    'Contagion': 45\n",
    "    }\n",
    "\n",
    "    gandalf = ['Fireball', 'Lightning bolt', 'Lightning bolt', 'Magic arrow', 'Fireball',\n",
    "    'Magic arrow', 'Lightning bolt', 'Fireball', 'Fireball', 'Fireball']\n",
    "\n",
    "    saruman = ['Contagion', 'Contagion', 'Black Tentacles', 'Fireball', 'Black Tentacles',\n",
    "    'Lightning bolt', 'Magic arrow', 'Contagion', 'Magic arrow', 'Magic arrow']\n",
    "    \n",
    "    gandalf_power = [POWER[x] for x in gandalf]\n",
    "    saruman_power = [POWER[x] for x in saruman]\n",
    "    all_spells = gandalf_power + saruman_power\n",
    "    stdev_spells = np.round(stats.stdev(all_spells),1)\n",
    "    \n",
    "    return stdev_spells"
   ]
  },
  {
   "cell_type": "code",
   "execution_count": 38,
   "metadata": {},
   "outputs": [
    {
     "data": {
      "text/plain": [
       "16.3"
      ]
     },
     "execution_count": 38,
     "metadata": {},
     "output_type": "execute_result"
    }
   ],
   "source": [
    "stdev_spells()"
   ]
  },
  {
   "cell_type": "code",
   "execution_count": null,
   "metadata": {},
   "outputs": [],
   "source": []
  }
 ],
 "metadata": {
  "kernelspec": {
   "display_name": "Python 3",
   "language": "python",
   "name": "python3"
  },
  "language_info": {
   "codemirror_mode": {
    "name": "ipython",
    "version": 3
   },
   "file_extension": ".py",
   "mimetype": "text/x-python",
   "name": "python",
   "nbconvert_exporter": "python",
   "pygments_lexer": "ipython3",
   "version": "3.8.3"
  }
 },
 "nbformat": 4,
 "nbformat_minor": 4
}
