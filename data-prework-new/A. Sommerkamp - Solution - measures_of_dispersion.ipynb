{
 "cells": [
  {
   "cell_type": "markdown",
   "metadata": {},
   "source": [
    "### Exercise - Measures of Dispersion "
   ]
  },
  {
   "cell_type": "markdown",
   "metadata": {},
   "source": [
    "**1. What is the range for the data set**  \n",
    "    points = [-4,  17,  25,  19,  6,  11,  7]\n",
    "    \n"
   ]
  },
  {
   "cell_type": "code",
   "execution_count": 3,
   "metadata": {},
   "outputs": [
    {
     "name": "stdout",
     "output_type": "stream",
     "text": [
      "The range is:  29\n"
     ]
    }
   ],
   "source": [
    "points = [-4, 17, 25, 19, 6, 11, 7]\n",
    "print(\"The range is: \", max(points)-min(points))"
   ]
  },
  {
   "cell_type": "markdown",
   "metadata": {},
   "source": [
    "**2. You are given the following dataset:**\n",
    "    \n",
    "    data = [2,4,7,1,6,8]\n",
    "    \n",
    "    How does the standard deviation change when 6 is replaced with 12 ? Does it increase, or decrease, or it remains the same?\n",
    "    \n",
    "\n"
   ]
  },
  {
   "cell_type": "code",
   "execution_count": 8,
   "metadata": {},
   "outputs": [
    {
     "name": "stdout",
     "output_type": "stream",
     "text": [
      "the standard deviation before the change in datda is:  2.804757862395017\n",
      "the standard deviation after the change in datda is:  4.131182235954578\n",
      "it increases, as one of the values is further away of the center of the distribution\n"
     ]
    }
   ],
   "source": [
    "data = [2,4,7,1,6,8]\n",
    "import statistics as stats\n",
    "print(\"the standard deviation before the change in datda is: \",stats.stdev(data))\n",
    "data[4] = 12\n",
    "print(\"the standard deviation after the change in datda is: \",stats.stdev(data))\n",
    "print(\"it increases, as one of the values is further away of the center of the distribution\")"
   ]
  },
  {
   "cell_type": "markdown",
   "metadata": {},
   "source": [
    "**3. Is is possile to have a dataset with 0 standard deviation or variance? If yes, can you think of any dataset with 6 data points that have 0 standard deviation?**\n",
    "\n",
    "\n"
   ]
  },
  {
   "cell_type": "code",
   "execution_count": 14,
   "metadata": {},
   "outputs": [
    {
     "name": "stdout",
     "output_type": "stream",
     "text": [
      "0.0  is the standard deviation for  [5, 5, 5, 5, 5, 5]\n",
      "0.0  is the standard deviation for  [13, 13, 13, 13, 13, 13]\n"
     ]
    }
   ],
   "source": [
    "#Yes, any dataset where all the values are equal to the arithmetic mean\n",
    "data=[5,5,5,5,5,5]\n",
    "print(stats.stdev(data),\" is the standard deviation for \",data)\n",
    "data = [13,13,13,13,13,13]\n",
    "print(stats.stdev(data),\" is the standard deviation for \",data)"
   ]
  },
  {
   "cell_type": "markdown",
   "metadata": {},
   "source": [
    "**4. We know that standard deviation is a measure of spread in the dataset. What is meant by deviation here?**\n",
    "\n",
    "\n"
   ]
  },
  {
   "cell_type": "markdown",
   "metadata": {},
   "source": [
    "Deviation is the individual measure of distance of every single value of the dataset with the average of the whole, while the standard deviation is an average calculation of all of those distances. "
   ]
  },
  {
   "cell_type": "markdown",
   "metadata": {},
   "source": [
    "**5. Given the dataset in the list:**  \n",
    "    data = [23, 12, 34, 65, 34, 81]  \n",
    "    What is the deviation from the mean for each of the points in the list. Write a for loop and print each of the values \n",
    "    \n",
    "    \n"
   ]
  },
  {
   "cell_type": "code",
   "execution_count": 15,
   "metadata": {},
   "outputs": [
    {
     "name": "stdout",
     "output_type": "stream",
     "text": [
      "deviation for  23 is  -18.5\n",
      "deviation for  12 is  -29.5\n",
      "deviation for  34 is  -7.5\n",
      "deviation for  65 is  23.5\n",
      "deviation for  34 is  -7.5\n",
      "deviation for  81 is  39.5\n"
     ]
    }
   ],
   "source": [
    "data = [23, 12, 34, 65, 34, 81]\n",
    "for x in data:\n",
    "    print(\"deviation for \", x ,\"is \", x-stats.mean(data))"
   ]
  },
  {
   "cell_type": "markdown",
   "metadata": {},
   "source": [
    "**6. How is standard deviation different than variance ?**"
   ]
  },
  {
   "cell_type": "markdown",
   "metadata": {},
   "source": [
    "The standard deviation is the square root of the variance, and it's measured in the same units as the original data. The variance is taken in account as a way to detect outliers, as it will be very big if any of the data is significantly separated from the mean. "
   ]
  },
  {
   "cell_type": "code",
   "execution_count": 2,
   "metadata": {},
   "outputs": [],
   "source": []
  },
  {
   "cell_type": "code",
   "execution_count": null,
   "metadata": {},
   "outputs": [],
   "source": []
  }
 ],
 "metadata": {
  "kernelspec": {
   "display_name": "Python 3",
   "language": "python",
   "name": "python3"
  },
  "language_info": {
   "codemirror_mode": {
    "name": "ipython",
    "version": 3
   },
   "file_extension": ".py",
   "mimetype": "text/x-python",
   "name": "python",
   "nbconvert_exporter": "python",
   "pygments_lexer": "ipython3",
   "version": "3.8.3"
  }
 },
 "nbformat": 4,
 "nbformat_minor": 2
}
