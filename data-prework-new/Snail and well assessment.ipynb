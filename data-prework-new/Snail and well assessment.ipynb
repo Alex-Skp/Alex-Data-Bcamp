{
 "cells": [
  {
   "cell_type": "code",
   "execution_count": 5,
   "metadata": {},
   "outputs": [],
   "source": [
    "# How long does it take to get out of the well?\n",
    "\n",
    "def escape():\n",
    "    # Assign problem data to variables with representative names\n",
    "    # well height, daily advance, night retreat, accumulated distance\n",
    "    daily_climb = [30, 21, 33, 77, 44, 45, 23, 45, 12, 34, 55]\n",
    "    well_height = 125\n",
    "    nightly_fall = 20\n",
    "    total_distance = 0\n",
    "    advance = []\n",
    "    \n",
    "    # Assign 0 to the variable that represents the solution\n",
    "    total_days = 0\n",
    "    while total_distance < well_height:\n",
    "        total_distance += daily_climb[total_days]\n",
    "        total_days+=1\n",
    "        if total_distance<well_height:\n",
    "            total_distance -= nightly_fall\n",
    "        advance.append(total_distance)\n",
    "        \n",
    "    return total_days"
   ]
  },
  {
   "cell_type": "code",
   "execution_count": 6,
   "metadata": {},
   "outputs": [
    {
     "name": "stdout",
     "output_type": "stream",
     "text": [
      "10 1\n",
      "11 2\n",
      "24 3\n",
      "81 4\n",
      "125 5\n",
      "[10, 11, 24, 81, 125]\n"
     ]
    },
    {
     "data": {
      "text/plain": [
       "5"
      ]
     },
     "execution_count": 6,
     "metadata": {},
     "output_type": "execute_result"
    }
   ],
   "source": [
    "escape()"
   ]
  },
  {
   "cell_type": "code",
   "execution_count": 146,
   "metadata": {},
   "outputs": [],
   "source": [
    "def max_displacement():\n",
    "    daily_climb = [30, 21, 33, 77, 44, 45, 23, 45, 12, 34, 55]\n",
    "    well_height = 125\n",
    "    nightly_fall = 20\n",
    "    total_distance = 0\n",
    "    total_days = 0\n",
    "    displ = []\n",
    "    \n",
    "    while total_distance < well_height:\n",
    "        prev_dist = total_distance\n",
    "        \n",
    "        total_distance += daily_climb[total_days]\n",
    "        total_days+=1\n",
    "        if total_distance<well_height:\n",
    "            total_distance -= nightly_fall\n",
    "        \n",
    "        displ.append(total_distance-prev_dist)\n",
    "        max_displ = max(displ)\n",
    "\n",
    "    return max_displ"
   ]
  },
  {
   "cell_type": "code",
   "execution_count": 147,
   "metadata": {
    "scrolled": true
   },
   "outputs": [
    {
     "data": {
      "text/plain": [
       "57"
      ]
     },
     "execution_count": 147,
     "metadata": {},
     "output_type": "execute_result"
    }
   ],
   "source": [
    "max_displacement()"
   ]
  },
  {
   "cell_type": "code",
   "execution_count": 166,
   "metadata": {},
   "outputs": [],
   "source": [
    "def min_displacement():\n",
    "    daily_climb = [30, 21, 33, 77, 44, 45, 23, 45, 12, 34, 55]\n",
    "    well_height = 125\n",
    "    nightly_fall = 20\n",
    "    total_distance = 0\n",
    "    total_days = 0\n",
    "    displ = []\n",
    "    \n",
    "    while total_distance < well_height:\n",
    "        prev_dist = total_distance\n",
    "        \n",
    "        total_distance += daily_climb[total_days]\n",
    "        total_days+=1\n",
    "        if total_distance<well_height:\n",
    "            total_distance -= nightly_fall\n",
    "        \n",
    "        displ.append(total_distance-prev_dist)\n",
    "        min_displ = min(displ)\n",
    "\n",
    "    return min_displ"
   ]
  },
  {
   "cell_type": "code",
   "execution_count": 167,
   "metadata": {},
   "outputs": [
    {
     "data": {
      "text/plain": [
       "1"
      ]
     },
     "execution_count": 167,
     "metadata": {},
     "output_type": "execute_result"
    }
   ],
   "source": [
    "min_displacement()"
   ]
  },
  {
   "cell_type": "code",
   "execution_count": 168,
   "metadata": {},
   "outputs": [],
   "source": [
    "def avg_speed():\n",
    "    import numpy as np\n",
    "    daily_climb = [30, 21, 33, 77, 44, 45, 23, 45, 12, 34, 55]\n",
    "    well_height = 125\n",
    "    nightly_fall = 20\n",
    "    total_distance = 0\n",
    "    total_days = 0\n",
    "    displ = []\n",
    "    \n",
    "    while total_distance < well_height:\n",
    "        prev_dist = total_distance\n",
    "        \n",
    "        total_distance += daily_climb[total_days]\n",
    "        total_days+=1\n",
    "        if total_distance<well_height:\n",
    "            total_distance -= nightly_fall\n",
    "        \n",
    "        displ.append(total_distance-prev_dist)\n",
    "        min_displ = min(displ)\n",
    "    avg_sp = np.round(sum(displ)/len(displ),1)\n",
    "    return avg_sp"
   ]
  },
  {
   "cell_type": "code",
   "execution_count": 169,
   "metadata": {},
   "outputs": [
    {
     "data": {
      "text/plain": [
       "25.0"
      ]
     },
     "execution_count": 169,
     "metadata": {},
     "output_type": "execute_result"
    }
   ],
   "source": [
    "avg_speed()"
   ]
  },
  {
   "cell_type": "code",
   "execution_count": 162,
   "metadata": {},
   "outputs": [],
   "source": [
    "def standard_deviation():\n",
    "    import numpy as np\n",
    "    import statistics as stats\n",
    "    daily_climb = [30, 21, 33, 77, 44, 45, 23, 45, 12, 34, 55]\n",
    "    well_height = 125\n",
    "    nightly_fall = 20\n",
    "    total_distance = 0\n",
    "    total_days = 0\n",
    "    displ = []\n",
    "    \n",
    "    while total_distance < well_height:\n",
    "        prev_dist = total_distance\n",
    "        \n",
    "        total_distance += daily_climb[total_days]\n",
    "        total_days+=1\n",
    "        if total_distance<well_height:\n",
    "            total_distance -= nightly_fall\n",
    "        \n",
    "        displ.append(total_distance-prev_dist)\n",
    "        min_displ = min(displ)\n",
    "    std_dev = np.round(stats.stdev(displ),2)\n",
    "    return std_dev"
   ]
  },
  {
   "cell_type": "code",
   "execution_count": 163,
   "metadata": {},
   "outputs": [
    {
     "data": {
      "text/plain": [
       "24.14"
      ]
     },
     "execution_count": 163,
     "metadata": {},
     "output_type": "execute_result"
    }
   ],
   "source": [
    "standard_deviation()"
   ]
  },
  {
   "cell_type": "code",
   "execution_count": null,
   "metadata": {},
   "outputs": [],
   "source": []
  },
  {
   "cell_type": "code",
   "execution_count": null,
   "metadata": {},
   "outputs": [],
   "source": []
  },
  {
   "cell_type": "code",
   "execution_count": null,
   "metadata": {},
   "outputs": [],
   "source": []
  },
  {
   "cell_type": "code",
   "execution_count": null,
   "metadata": {},
   "outputs": [],
   "source": []
  },
  {
   "cell_type": "code",
   "execution_count": null,
   "metadata": {},
   "outputs": [],
   "source": []
  },
  {
   "cell_type": "code",
   "execution_count": null,
   "metadata": {},
   "outputs": [],
   "source": []
  },
  {
   "cell_type": "code",
   "execution_count": null,
   "metadata": {},
   "outputs": [],
   "source": []
  },
  {
   "cell_type": "code",
   "execution_count": null,
   "metadata": {},
   "outputs": [],
   "source": []
  },
  {
   "cell_type": "code",
   "execution_count": null,
   "metadata": {},
   "outputs": [],
   "source": []
  },
  {
   "cell_type": "code",
   "execution_count": null,
   "metadata": {},
   "outputs": [],
   "source": []
  },
  {
   "cell_type": "code",
   "execution_count": null,
   "metadata": {},
   "outputs": [],
   "source": []
  },
  {
   "cell_type": "code",
   "execution_count": null,
   "metadata": {},
   "outputs": [],
   "source": []
  },
  {
   "cell_type": "code",
   "execution_count": null,
   "metadata": {},
   "outputs": [],
   "source": []
  },
  {
   "cell_type": "code",
   "execution_count": null,
   "metadata": {},
   "outputs": [],
   "source": []
  }
 ],
 "metadata": {
  "kernelspec": {
   "display_name": "Python 3",
   "language": "python",
   "name": "python3"
  },
  "language_info": {
   "codemirror_mode": {
    "name": "ipython",
    "version": 3
   },
   "file_extension": ".py",
   "mimetype": "text/x-python",
   "name": "python",
   "nbconvert_exporter": "python",
   "pygments_lexer": "ipython3",
   "version": "3.8.3"
  }
 },
 "nbformat": 4,
 "nbformat_minor": 4
}
