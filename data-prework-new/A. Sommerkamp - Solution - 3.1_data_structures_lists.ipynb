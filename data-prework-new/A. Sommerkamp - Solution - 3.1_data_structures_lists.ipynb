{
 "cells": [
  {
   "cell_type": "markdown",
   "metadata": {},
   "source": [
    "### 1. Exercise - Variables"
   ]
  },
  {
   "cell_type": "markdown",
   "metadata": {},
   "source": [
    "## 1.1 Given the list:\n",
    "    lst = [1, 2, 34, 5, 3, 12, 9, 8, 67, 89, 98, 90, 39, 21, 45, 46, 23, 13]\n",
    "    \n",
    "Answer the following questions:\n",
    "    \n",
    "- How many elements are in the list?\n",
    "- Using indexes, find out which is the first element in the list?\n",
    "- Using indexes, find out which is the last element in the list?\n",
    "- What is the index of element `90` in the list?\n",
    "- Which are the first 8 elements in the list?\n",
    "- Append elements 100 and 110 to the list?\n",
    "- Use the sort function from numpy library to sort the elements in the list. "
   ]
  },
  {
   "cell_type": "code",
   "execution_count": 11,
   "metadata": {},
   "outputs": [
    {
     "name": "stdout",
     "output_type": "stream",
     "text": [
      "There are  18  elements in the list \n",
      "The first element in the list is:  1\n",
      "The last element in the list is:  13\n",
      "The index of 90 in the list is:  11\n",
      "The first 8 elements in the list are: \n",
      " [1, 2, 34, 5, 3, 12, 9, 8]\n",
      "After appending 110 and 110:\n",
      "[1, 2, 34, 5, 3, 12, 9, 8, 67, 89, 98, 90, 39, 21, 45, 46, 23, 13, 100, 110]\n",
      "After sorting with numpy.sort: \n",
      " [1, 2, 3, 5, 8, 9, 12, 13, 21, 23, 34, 39, 45, 46, 67, 89, 90, 98, 100, 110]\n"
     ]
    }
   ],
   "source": [
    "lst = [1, 2, 34, 5, 3, 12, 9, 8, 67, 89, 98, 90, 39, 21, 45, 46, 23, 13]\n",
    "#How many elements are in the list?\n",
    "print(\"There are \",len(lst),\" elements in the list \")\n",
    "#Using indexes, find out which is the first element in the list?\n",
    "print(\"The first element in the list is: \",lst[0])\n",
    "#Using indexes, find out which is the last element in the list?\n",
    "print(\"The last element in the list is: \",lst[len(lst)-1])\n",
    "#What is the index of element `90` in the list?\n",
    "print(\"The index of 90 in the list is: \",lst.index(90))\n",
    "#Which are the first 8 elements in the list?\n",
    "print(\"The first 8 elements in the list are: \\n\",lst[:8])\n",
    "#Append elements 100 and 110 to the list?\n",
    "lst.append(100)\n",
    "lst.append(110)\n",
    "print(\"After appending 110 and 110:\")\n",
    "print(lst)\n",
    "#Use the sort function from numpy library to sort the elements in the list.\n",
    "from numpy import sort\n",
    "lst.sort()\n",
    "print(\"After sorting with numpy.sort: \\n\", lst)\n"
   ]
  },
  {
   "cell_type": "markdown",
   "metadata": {},
   "source": [
    "## 1.2\n",
    "Can a list have two or more elements equal? \n",
    "Try and test. Try to define a new list with a few similar values and see if it works. "
   ]
  },
  {
   "cell_type": "code",
   "execution_count": 13,
   "metadata": {},
   "outputs": [
    {
     "name": "stdout",
     "output_type": "stream",
     "text": [
      "It can have several equal elements:\n",
      " [1, 1, 1, 1, 2, 3, 3, 3, 3, 6, 6]\n"
     ]
    }
   ],
   "source": [
    "lst_2 = [1,1,1,1,2,3,3,3,3,6,6]\n",
    "print(\"It can have several equal elements:\\n\", lst_2)"
   ]
  },
  {
   "cell_type": "code",
   "execution_count": null,
   "metadata": {},
   "outputs": [],
   "source": []
  }
 ],
 "metadata": {
  "kernelspec": {
   "display_name": "Python 3",
   "language": "python",
   "name": "python3"
  },
  "language_info": {
   "codemirror_mode": {
    "name": "ipython",
    "version": 3
   },
   "file_extension": ".py",
   "mimetype": "text/x-python",
   "name": "python",
   "nbconvert_exporter": "python",
   "pygments_lexer": "ipython3",
   "version": "3.8.3"
  }
 },
 "nbformat": 4,
 "nbformat_minor": 2
}
