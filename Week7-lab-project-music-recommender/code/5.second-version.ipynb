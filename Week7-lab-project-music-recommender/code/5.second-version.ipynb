{
 "cells": [
  {
   "cell_type": "markdown",
   "id": "laughing-plasma",
   "metadata": {},
   "source": [
    "![image](../images/gnod_2nd_iteration.jpg)"
   ]
  },
  {
   "cell_type": "code",
   "execution_count": 101,
   "id": "standing-yahoo",
   "metadata": {},
   "outputs": [],
   "source": [
    "import spotipy\n",
    "from spotipy.oauth2 import SpotifyClientCredentials\n",
    "from getpass import getpass\n",
    "from tqdm.notebook import tqdm\n",
    "import pandas as pd\n",
    "import joblib"
   ]
  },
  {
   "cell_type": "code",
   "execution_count": null,
   "id": "searching-keyboard",
   "metadata": {},
   "outputs": [],
   "source": [
    "#hot_100 = pd.read_csv(\"../data/top-100-songs-chart.csv\", index_col = 0)"
   ]
  },
  {
   "cell_type": "code",
   "execution_count": 59,
   "id": "forbidden-radio",
   "metadata": {},
   "outputs": [],
   "source": [
    "def first_input ():\n",
    "    \"\"\"\n",
    "    inputs a string of at least 2 characters, returns that string stripped from whitespace\n",
    "    \"\"\"\n",
    "    inp = str(input(\"Insert the name of a song: \")).strip()\n",
    "    while len(inp)<2:\n",
    "        inp = str(input(\"please write at least 2 characters as a name: \")).strip()\n",
    "    return inp"
   ]
  },
  {
   "cell_type": "code",
   "execution_count": 43,
   "id": "steady-depression",
   "metadata": {},
   "outputs": [],
   "source": [
    "def matching_songs(inp,song,artists,songid):\n",
    "    \"\"\"\n",
    "    creates a dframe of songs where inp matches a song name\n",
    "    will return a list with song, artist and an index for these songs \n",
    "    \"\"\"\n",
    "    \n",
    "    #We create a list of songs where the inputted string matches\n",
    "    matches = song.str.lower().str.find(inp.lower())\n",
    "    songs = [(song[i],artists[i],songid[i]) for i,x in enumerate(matches) if x >= 0]\n",
    "    \n",
    "    #If there is no matches whatsoever we return false, if any match, return songs list \n",
    "    if len(songs) == 0:\n",
    "        return False\n",
    "    else:\n",
    "        return songs\n",
    "    \n",
    "\n"
   ]
  },
  {
   "cell_type": "code",
   "execution_count": 61,
   "id": "unique-lewis",
   "metadata": {},
   "outputs": [],
   "source": [
    "def select_song(songs):\n",
    "    \"\"\"\n",
    "    will return the index of the original chart in where the song is located, false if no matches. \n",
    "    \"\"\"\n",
    "    \n",
    "    if len(songs) == 1:    \n",
    "        print(\"\\nDid you mean this song?\")\n",
    "    else:\n",
    "        print(\"\\nDid you mean any of these?\")\n",
    "        \n",
    "    #displaying the options and ask for selection\n",
    "    for i,song in enumerate(songs):\n",
    "        print(str(i),\"-> \", song[0],\" | \",song[1])    \n",
    "    \n",
    "    sel = input(\"Choose song if yes, N if not: \").strip()\n",
    "    \n",
    "    #we use try/except to raise errors if the index is out of range, or if the input can't be converted to an int \n",
    "    while sel.lower() != \"n\":\n",
    "        try:\n",
    "            return songs[int(sel)][2]\n",
    "            break\n",
    "        except ValueError:\n",
    "            sel = input(\"Sorry, I didn't understand! Choose number if yes, N if not.\").strip()\n",
    "        except IndexError:\n",
    "            sel = input(\"Please choose one of the songs or write N if not: \").strip()\n",
    "    \n",
    "    return False "
   ]
  },
  {
   "cell_type": "code",
   "execution_count": 53,
   "id": "bigger-synthesis",
   "metadata": {},
   "outputs": [],
   "source": [
    "def hot_songs(inp):\n",
    "    \"\"\"\n",
    "    requires pandas\n",
    "    \"\"\"\n",
    "    hot_100 = pd.read_csv(\"../data/top-100-songs-chart.csv\", index_col = 0)\n",
    "    \n",
    "    matching = matching_songs(inp,hot_100['song'],hot_100['artist'],hot_100['rank'])\n",
    "    \n",
    "    if matching == False:\n",
    "        return False\n",
    "    \n",
    "    song_ind = select_song(matching)\n",
    "    \n",
    "    if song_ind == False:\n",
    "        return False \n",
    "    else:\n",
    "        recommendation = hot_100[hot_100['rank'] != song_ind].sample()\n",
    "        song = recommendation['song'].iloc[0]\n",
    "        artist = recommendation['artist'].iloc[0]\n",
    "        print(\"\\nWe recommend you {} from {} \".format(song,artist))\n",
    "        return True"
   ]
  },
  {
   "cell_type": "code",
   "execution_count": 16,
   "id": "changed-demonstration",
   "metadata": {},
   "outputs": [],
   "source": [
    "def spotipy_connection():\n",
    "    print(\"Insert Spotipy Client ID:\")\n",
    "    c_id = str(getpass())\n",
    "    print(\"Insert Spotipy Client Secret:\")\n",
    "    c_s = str(getpass())\n",
    "    \n",
    "    \n",
    "    return c_id,c_s"
   ]
  },
  {
   "cell_type": "code",
   "execution_count": 17,
   "id": "urban-november",
   "metadata": {},
   "outputs": [
    {
     "name": "stdout",
     "output_type": "stream",
     "text": [
      "Insert Spotipy Client ID:\n",
      "········\n",
      "Insert Spotipy Client Secret:\n",
      "········\n"
     ]
    }
   ],
   "source": [
    "c_id,c_s = spotipy_connection()"
   ]
  },
  {
   "cell_type": "code",
   "execution_count": 18,
   "id": "prescription-imaging",
   "metadata": {},
   "outputs": [],
   "source": [
    "sp = spotipy.Spotify(auth_manager=SpotifyClientCredentials(client_id=c_id,\n",
    "                                                          client_secret=c_s))"
   ]
  },
  {
   "cell_type": "code",
   "execution_count": 40,
   "id": "suitable-chosen",
   "metadata": {},
   "outputs": [],
   "source": [
    "def spotify_query(inp,offs = 0):\n",
    "    #queries 10 song names to spotify api\n",
    "    tracks_query = sp.search(str(inp), limit=10, type='track', offset=offs)['tracks']['items']\n",
    "    songs = []\n",
    "    for track in tracks_query:\n",
    "        sp_song = track['name']\n",
    "        sp_artists = \", \".join([artist['name'] for artist in track['artists']])\n",
    "        sp_id = track['id']\n",
    "        songs.append((sp_song,sp_artists,sp_id))\n",
    "    return songs\n",
    "    \n",
    "    "
   ]
  },
  {
   "cell_type": "code",
   "execution_count": 117,
   "id": "willing-headline",
   "metadata": {},
   "outputs": [],
   "source": [
    "def spotify_inp(inp):\n",
    "    #Tis can be improved to roll in various pages of the query, or by asking a new input\n",
    "    sp_songs = spotify_query(inp)\n",
    "    \n",
    "    selection = select_song(sp_songs)\n",
    "\n",
    "    return selection\n",
    "   "
   ]
  },
  {
   "cell_type": "code",
   "execution_count": 129,
   "id": "other-people",
   "metadata": {},
   "outputs": [],
   "source": [
    "def spotify_recommender(song_id):\n",
    "    scaler = joblib.load('../data/model/std_scaler.bin')\n",
    "    model = joblib.load('../data/model/kmeans_model.sav')\n",
    "    cluster_id = pd.load_csv()\n",
    "    \n",
    "    song_feats = sp.audio_features(song_id)[0]\n",
    "    features = ['danceability', 'energy', 'key', 'loudness', 'speechiness',\n",
    "       'acousticness', 'instrumentalness', 'liveness', 'valence', 'tempo'] \n",
    "    result = pd.DataFrame({key:song_feats[key] for key in features},index = [0])\n",
    "    scaler = joblib.load('../data/model/std_scaler.bin')\n",
    "    \n",
    "    return scaler.transform(result)"
   ]
  },
  {
   "cell_type": "code",
   "execution_count": 131,
   "id": "disturbed-audit",
   "metadata": {},
   "outputs": [],
   "source": [
    "feat = spotify_features(\"3J5jotqUAjU479WhAiNkpU\")"
   ]
  },
  {
   "cell_type": "code",
   "execution_count": 107,
   "id": "powerful-reflection",
   "metadata": {},
   "outputs": [],
   "source": [
    "scaler = joblib.load('../data/model/std_scaler.bin')"
   ]
  },
  {
   "cell_type": "code",
   "execution_count": 109,
   "id": "thirty-nitrogen",
   "metadata": {},
   "outputs": [
    {
     "data": {
      "text/plain": [
       "array([[-0.45434349,  0.0449069 ,  0.78410866,  0.68339756, -0.44716746,\n",
       "         0.27120376, -0.5720295 , -0.81486294,  0.47914816,  1.96925457]])"
      ]
     },
     "execution_count": 109,
     "metadata": {},
     "output_type": "execute_result"
    }
   ],
   "source": [
    "scaler.transform(a)"
   ]
  },
  {
   "cell_type": "code",
   "execution_count": 121,
   "id": "circular-basis",
   "metadata": {},
   "outputs": [],
   "source": [
    "model = joblib.load('../data/model/kmeans_model.sav')"
   ]
  },
  {
   "cell_type": "code",
   "execution_count": 132,
   "id": "certain-wyoming",
   "metadata": {},
   "outputs": [
    {
     "data": {
      "text/plain": [
       "array([17])"
      ]
     },
     "execution_count": 132,
     "metadata": {},
     "output_type": "execute_result"
    }
   ],
   "source": [
    "model.predict(feat)"
   ]
  },
  {
   "cell_type": "code",
   "execution_count": null,
   "id": "exposed-witness",
   "metadata": {},
   "outputs": [],
   "source": [
    "series = pd.DataFrame({key:song_feats[key] for key in features},index = [0])"
   ]
  },
  {
   "cell_type": "code",
   "execution_count": null,
   "id": "blessed-encyclopedia",
   "metadata": {},
   "outputs": [],
   "source": []
  },
  {
   "cell_type": "code",
   "execution_count": 119,
   "id": "sought-typing",
   "metadata": {},
   "outputs": [],
   "source": [
    "def final():\n",
    "    \n",
    "    # we take the first input \n",
    "    inp = first_input()\n",
    "    # check if a hot song \n",
    "    if hot_songs(inp):\n",
    "        print(\"Finished after hot songs recommendation\")\n",
    "    \n",
    "    song_id = spotify_inp(inp)\n",
    "    \n",
    "    feats = spotify_features(song_id)\n",
    "    \n",
    "    \n",
    "    \n",
    "    \n",
    "    \n",
    "    "
   ]
  },
  {
   "cell_type": "code",
   "execution_count": 120,
   "id": "dirty-tennessee",
   "metadata": {},
   "outputs": [
    {
     "name": "stdout",
     "output_type": "stream",
     "text": [
      "Insert the name of a song: highway\n",
      "\n",
      "Did you mean any of these?\n",
      "0 ->  Highway to Hell  |  AC/DC\n",
      "1 ->  Highwayman  |  The Highwaymen, Willie Nelson, Johnny Cash, Waylon Jennings, Kris Kristofferson\n",
      "2 ->  Life is a Highway  |  Rascal Flatts\n",
      "3 ->  Highway Don't Care  |  Tim McGraw, Taylor Swift, Keith Urban\n",
      "4 ->  Highway Tune  |  Greta Van Fleet\n",
      "5 ->  Ventura Highway  |  America, George Martin\n",
      "6 ->  Highway 20 Ride  |  Zac Brown Band\n",
      "7 ->  Highway Star  |  Deep Purple\n",
      "8 ->  Highway 40 Blues (feat. Ricky Skaggs & Larry Cordle)  |  Tyler Childers, Ricky Skaggs, Larry Cordle\n",
      "9 ->  Freedom Was A Highway  |  Jimmie Allen, Brad Paisley\n",
      "Choose song if yes, N if not: 9\n",
      "[[-0.0067472   1.21552015 -1.18791259  0.87424238 -0.42457607 -0.96525103\n",
      "  -0.5720295  -0.34059966  0.6909589  -0.69824669]]\n"
     ]
    }
   ],
   "source": [
    "final()"
   ]
  },
  {
   "cell_type": "markdown",
   "id": "adverse-alberta",
   "metadata": {},
   "source": [
    "### not being used now"
   ]
  },
  {
   "cell_type": "code",
   "execution_count": null,
   "id": "pediatric-conversation",
   "metadata": {},
   "outputs": [],
   "source": [
    "hot_100[hot_100['rank']!=2]"
   ]
  },
  {
   "cell_type": "code",
   "execution_count": null,
   "id": "virgin-cleveland",
   "metadata": {},
   "outputs": [],
   "source": []
  },
  {
   "cell_type": "code",
   "execution_count": null,
   "id": "hazardous-motivation",
   "metadata": {},
   "outputs": [],
   "source": []
  },
  {
   "cell_type": "code",
   "execution_count": 5,
   "id": "genuine-destiny",
   "metadata": {},
   "outputs": [],
   "source": [
    "def check_input_song(songs):\n",
    "    \"\"\"\n",
    "    Takes a dataframe of song matches and will ask to confirm selection based on those possible matches.\n",
    "    \n",
    "    \"\"\"\n",
    "    for i,song in enumerate(songs[:10]):\n",
    "        print(str(i),\"-> \", song[0],\" | \",song[1])    \n",
    "    \n",
    "    sel = input(\"Choose song if yes, N if not: \").strip()\n",
    "    \n",
    "    #we use try/except to raise errors if the index is out of range, or if the input can't be converted to an int \n",
    "    while sel.lower() != \"n\":\n",
    "        try:\n",
    "            return songs[int(sel)][2]\n",
    "            break\n",
    "        except ValueError:\n",
    "            sel = input(\"Sorry, I didn't understand! Choose number if yes, N if not.\").strip()\n",
    "        except IndexError:\n",
    "            sel = input(\"Please choose one of the songs or write N if not: \").strip()\n",
    "    \n",
    "    return False"
   ]
  }
 ],
 "metadata": {
  "kernelspec": {
   "display_name": "Python 3",
   "language": "python",
   "name": "python3"
  },
  "language_info": {
   "codemirror_mode": {
    "name": "ipython",
    "version": 3
   },
   "file_extension": ".py",
   "mimetype": "text/x-python",
   "name": "python",
   "nbconvert_exporter": "python",
   "pygments_lexer": "ipython3",
   "version": "3.9.2"
  }
 },
 "nbformat": 4,
 "nbformat_minor": 5
}
