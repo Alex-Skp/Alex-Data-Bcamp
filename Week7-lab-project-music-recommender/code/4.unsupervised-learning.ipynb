{
 "cells": [
  {
   "cell_type": "markdown",
   "id": "exposed-punishment",
   "metadata": {},
   "source": [
    "Import packages\n"
   ]
  },
  {
   "cell_type": "code",
   "execution_count": 1,
   "id": "developmental-accountability",
   "metadata": {},
   "outputs": [],
   "source": [
    "import pandas as pd\n",
    "from sklearn.preprocessing import StandardScaler\n",
    "from sklearn.cluster import KMeans\n"
   ]
  },
  {
   "cell_type": "markdown",
   "id": "educated-croatia",
   "metadata": {},
   "source": [
    "Import dataset (We will use the smaller one first)"
   ]
  },
  {
   "cell_type": "code",
   "execution_count": null,
   "id": "finished-biotechnology",
   "metadata": {},
   "outputs": [],
   "source": [
    "data = pd.read_csv(\"../data/\")\n",
    "data"
   ]
  }
 ],
 "metadata": {
  "kernelspec": {
   "display_name": "Python 3",
   "language": "python",
   "name": "python3"
  },
  "language_info": {
   "codemirror_mode": {
    "name": "ipython",
    "version": 3
   },
   "file_extension": ".py",
   "mimetype": "text/x-python",
   "name": "python",
   "nbconvert_exporter": "python",
   "pygments_lexer": "ipython3",
   "version": "3.9.2"
  }
 },
 "nbformat": 4,
 "nbformat_minor": 5
}
