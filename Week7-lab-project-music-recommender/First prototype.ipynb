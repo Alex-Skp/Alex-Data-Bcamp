{
 "cells": [
  {
   "cell_type": "markdown",
   "id": "authentic-decimal",
   "metadata": {},
   "source": [
    "![image](gnod_1st_iteration.jpg)"
   ]
  },
  {
   "cell_type": "code",
   "execution_count": 1,
   "id": "junior-controversy",
   "metadata": {},
   "outputs": [],
   "source": [
    "def user_input ():\n",
    "    inp = input(\"insert the name of a song:\")\n",
    "    return inp"
   ]
  },
  {
   "cell_type": "code",
   "execution_count": 2,
   "id": "detected-hollywood",
   "metadata": {},
   "outputs": [
    {
     "name": "stdout",
     "output_type": "stream",
     "text": [
      "insert the name of a song:pedro palote\n"
     ]
    }
   ],
   "source": [
    "user_input()"
   ]
  },
  {
   "cell_type": "code",
   "execution_count": null,
   "id": "brilliant-privilege",
   "metadata": {},
   "outputs": [],
   "source": []
  }
 ],
 "metadata": {
  "kernelspec": {
   "display_name": "Python 3",
   "language": "python",
   "name": "python3"
  },
  "language_info": {
   "codemirror_mode": {
    "name": "ipython",
    "version": 3
   },
   "file_extension": ".py",
   "mimetype": "text/x-python",
   "name": "python",
   "nbconvert_exporter": "python",
   "pygments_lexer": "ipython3",
   "version": "3.9.2"
  }
 },
 "nbformat": 4,
 "nbformat_minor": 5
}
