{
 "cells": [
  {
   "cell_type": "markdown",
   "metadata": {},
   "source": [
    "# Lab | Customer Analysis Round 3\n",
    "\n",
    "For this lab, we still keep using the marketing_customer_analysis.csv file. You can find the file in the files_for_lab folder.\n",
    "\n",
    "Get the data\n",
    "Use the same jupyter file from the last lab, Customer Analysis Round 3\n",
    "EDA (Exploratory Data Analysis) - Complete the following tasks to explore the data:\n",
    "* Show DataFrame info.\n",
    "* Describe DataFrame.\n",
    "* Show a plot of the total number of responses broken down by response kind.\n",
    "* Show a plot of the response rate number of responses by the sales channel.\n",
    "* Show a plot of the response rate by the total claim amount. Show a plot of the distribution of the total claim amount, broken down by response kind. Try a boxplot and distribution plot, for each response kind. For the distribution plot, try to plot both kinds of responses in one chart (you can try with seaborn's histplot, using the hue parameter).\n",
    "* Show a plot of the response rate by income. Create similar plots like in the task before, but for Income\n",
    "* NEW: Create a scatterplot between total claim amount and income. Play around with the parameters of the scatterplot (markersize? alpha?) and try to identify more features within the data just visually. You can also try different seaborn plots. Check to find suitable ones: https://www.python-graph-gallery.com/134-how-to-avoid-overplotting-with-python\n",
    "The Python Graph GalleryThe Python Graph Gallery\n",
    "How to avoid overplotting with python | The Python Graph Gallery\n",
    "What is an overplotting and how to avoid it in python\n"
   ]
  },
  {
   "cell_type": "code",
   "execution_count": null,
   "metadata": {},
   "outputs": [],
   "source": [
    "import pandas as pd"
   ]
  },
  {
   "cell_type": "code",
   "execution_count": null,
   "metadata": {},
   "outputs": [],
   "source": [
    "data = pd.read_csv('files_for_lab/csv_files/marketing_customer_analysis.csv')\n"
   ]
  },
  {
   "cell_type": "code",
   "execution_count": null,
   "metadata": {},
   "outputs": [],
   "source": [
    "#Show the dataframe shape.\n",
    "data.shape"
   ]
  },
  {
   "cell_type": "code",
   "execution_count": null,
   "metadata": {},
   "outputs": [],
   "source": [
    "data.head()"
   ]
  },
  {
   "cell_type": "code",
   "execution_count": null,
   "metadata": {},
   "outputs": [],
   "source": [
    "#Standardize header names.\n",
    "def clean_headers(a):\n",
    "    \"\"\"\n",
    "    Input is a dataset, it will put the column labels as lower case, strip the names and subsitute spaces with dashes\n",
    "    \"\"\"\n",
    "    cols=[]\n",
    "    for i in range(len(a.columns)):\n",
    "        cols.append(a.columns[i].lower().strip().replace(\" \",\"_\"))\n",
    "        \n",
    "    a.columns = cols"
   ]
  },
  {
   "cell_type": "code",
   "execution_count": null,
   "metadata": {},
   "outputs": [],
   "source": [
    "clean_headers(data)"
   ]
  },
  {
   "cell_type": "code",
   "execution_count": null,
   "metadata": {},
   "outputs": [],
   "source": [
    "data.columns"
   ]
  },
  {
   "cell_type": "code",
   "execution_count": null,
   "metadata": {},
   "outputs": [],
   "source": [
    "data.head()"
   ]
  },
  {
   "cell_type": "code",
   "execution_count": null,
   "metadata": {},
   "outputs": [],
   "source": [
    "#Which columns are numerical?\n",
    "\n",
    "data._get_numeric_data().columns"
   ]
  },
  {
   "cell_type": "code",
   "execution_count": null,
   "metadata": {},
   "outputs": [],
   "source": [
    "data._get_numeric_data()"
   ]
  },
  {
   "cell_type": "code",
   "execution_count": null,
   "metadata": {},
   "outputs": [],
   "source": [
    "#Which columns are categorical?\n",
    "data.select_dtypes('object')"
   ]
  },
  {
   "cell_type": "code",
   "execution_count": null,
   "metadata": {},
   "outputs": [],
   "source": [
    "#Check and deal with NaN values.\n",
    "data.info()"
   ]
  },
  {
   "cell_type": "code",
   "execution_count": null,
   "metadata": {},
   "outputs": [],
   "source": [
    "#Datetime format- Extract the months from the dataset and store in a separate column. \n",
    "#Then filter the data to show only the information for the first quarter , ie Jan Feb and March\n",
    "\n",
    "data['month'] = list(map(lambda x: int(x[0]), data['effective_to_date']))"
   ]
  },
  {
   "cell_type": "code",
   "execution_count": null,
   "metadata": {},
   "outputs": [],
   "source": [
    "data.head()"
   ]
  },
  {
   "cell_type": "code",
   "execution_count": null,
   "metadata": {},
   "outputs": [],
   "source": [
    "first_quarter = data[data['month']<=3]\n",
    "first_quarter"
   ]
  },
  {
   "cell_type": "code",
   "execution_count": null,
   "metadata": {},
   "outputs": [],
   "source": [
    "#Put all the previously mentioned data transformations into a function.\n",
    "#Mostly what we did was check, as the original data was already cleaned, dealed with NaN, and filtered for the first quarter. \n",
    "def power_cleanup(data):\n",
    "    \n",
    "    #Cleaning the names\n",
    "    cols=[]\n",
    "    for i in range(len(data.columns)):\n",
    "        cols.append(data.columns[i].lower().strip().replace(\" \",\"_\"))\n",
    "    data.columns = cols\n",
    "    \n",
    "    #Creating month column\n",
    "    data['month'] = list(map(lambda x: int(x[0]), data['effective_to_date']))\n",
    "    \n",
    "    #Returning the modified dataset\n",
    "    return data[data['month']<=3]\n",
    "\n"
   ]
  },
  {
   "cell_type": "code",
   "execution_count": null,
   "metadata": {},
   "outputs": [],
   "source": [
    "power_cleanup(data)"
   ]
  },
  {
   "cell_type": "code",
   "execution_count": null,
   "metadata": {},
   "outputs": [],
   "source": []
  }
 ],
 "metadata": {
  "kernelspec": {
   "display_name": "Python 3",
   "language": "python",
   "name": "python3"
  },
  "language_info": {
   "codemirror_mode": {
    "name": "ipython",
    "version": 3
   },
   "file_extension": ".py",
   "mimetype": "text/x-python",
   "name": "python",
   "nbconvert_exporter": "python",
   "pygments_lexer": "ipython3",
   "version": "3.9.2"
  }
 },
 "nbformat": 4,
 "nbformat_minor": 4
}
